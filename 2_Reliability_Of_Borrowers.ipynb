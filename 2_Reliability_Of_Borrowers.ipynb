{
 "cells": [
  {
   "attachments": {},
   "cell_type": "markdown",
   "id": "136d1791",
   "metadata": {
    "deletable": false,
    "editable": false,
    "id": "c81daeeb"
   },
   "source": [
    "# Исследование надежности заемщиков банка для построения модели кредитного скоринга\n"
   ]
  },
  {
   "attachments": {},
   "cell_type": "markdown",
   "id": "fcacedff",
   "metadata": {},
   "source": [
    "## Описание проекта\n",
    "Заказчик — кредитный отдел банка. Нужно разобраться, влияет ли семейное положение и количество детей клиента на факт погашения кредита в срок. Входные данные от банка — статистика о платёжеспособности клиентов.\n",
    "Результаты исследования будут учтены при построении модели кредитного скоринга — специальной системы, которая оценивает способность потенциального заёмщика вернуть кредит банку.\n",
    "### Описание данных\n",
    "<br>children — количество детей в семье\n",
    "<br>days_employed — общий трудовой стаж в днях\n",
    "<br>dob_years — возраст клиента в годах\n",
    "<br>education — уровень образования клиента\n",
    "<br>education_id — идентификатор уровня образования\n",
    "<br>family_status — семейное положение\n",
    "<br>family_status_id — идентификатор семейного положения\n",
    "<br>gender — пол клиента\n",
    "<br>income_type — тип занятости\n",
    "<br>debt — имел ли задолженность по возврату кредитов\n",
    "<br>total_income — ежемесячный доход\n",
    "<br>purpose — цель получения кредита"
   ]
  },
  {
   "attachments": {},
   "cell_type": "markdown",
   "id": "dc0142e3",
   "metadata": {
    "deletable": false,
    "editable": false,
    "id": "744d7639"
   },
   "source": [
    "## Откроем таблицу и изучим общую информацию о данных"
   ]
  },
  {
   "cell_type": "code",
   "execution_count": 1,
   "id": "dd20860b",
   "metadata": {
    "deletable": false,
    "id": "7bcf75c9"
   },
   "outputs": [],
   "source": [
    "import pandas as pd\n",
    "\n",
    "try:\n",
    "    data = pd.read_csv('/datasets/data.csv')\n",
    "except:\n",
    "    data = pd.read_csv('C:\\\\Users\\\\37544\\\\Downloads\\\\data (1).csv')"
   ]
  },
  {
   "cell_type": "code",
   "execution_count": 2,
   "id": "fc784a48",
   "metadata": {
    "deletable": false,
    "id": "2a7cab99",
    "outputId": "1a8f3ef2-d323-4ec2-ddf7-89670b5944c4"
   },
   "outputs": [
    {
     "data": {
      "text/html": [
       "<div>\n",
       "<style scoped>\n",
       "    .dataframe tbody tr th:only-of-type {\n",
       "        vertical-align: middle;\n",
       "    }\n",
       "\n",
       "    .dataframe tbody tr th {\n",
       "        vertical-align: top;\n",
       "    }\n",
       "\n",
       "    .dataframe thead th {\n",
       "        text-align: right;\n",
       "    }\n",
       "</style>\n",
       "<table border=\"1\" class=\"dataframe\">\n",
       "  <thead>\n",
       "    <tr style=\"text-align: right;\">\n",
       "      <th></th>\n",
       "      <th>children</th>\n",
       "      <th>days_employed</th>\n",
       "      <th>dob_years</th>\n",
       "      <th>education</th>\n",
       "      <th>education_id</th>\n",
       "      <th>family_status</th>\n",
       "      <th>family_status_id</th>\n",
       "      <th>gender</th>\n",
       "      <th>income_type</th>\n",
       "      <th>debt</th>\n",
       "      <th>total_income</th>\n",
       "      <th>purpose</th>\n",
       "    </tr>\n",
       "  </thead>\n",
       "  <tbody>\n",
       "    <tr>\n",
       "      <th>0</th>\n",
       "      <td>1</td>\n",
       "      <td>-8437.673028</td>\n",
       "      <td>42</td>\n",
       "      <td>высшее</td>\n",
       "      <td>0</td>\n",
       "      <td>женат / замужем</td>\n",
       "      <td>0</td>\n",
       "      <td>F</td>\n",
       "      <td>сотрудник</td>\n",
       "      <td>0</td>\n",
       "      <td>253875.639453</td>\n",
       "      <td>покупка жилья</td>\n",
       "    </tr>\n",
       "    <tr>\n",
       "      <th>1</th>\n",
       "      <td>1</td>\n",
       "      <td>-4024.803754</td>\n",
       "      <td>36</td>\n",
       "      <td>среднее</td>\n",
       "      <td>1</td>\n",
       "      <td>женат / замужем</td>\n",
       "      <td>0</td>\n",
       "      <td>F</td>\n",
       "      <td>сотрудник</td>\n",
       "      <td>0</td>\n",
       "      <td>112080.014102</td>\n",
       "      <td>приобретение автомобиля</td>\n",
       "    </tr>\n",
       "    <tr>\n",
       "      <th>2</th>\n",
       "      <td>0</td>\n",
       "      <td>-5623.422610</td>\n",
       "      <td>33</td>\n",
       "      <td>Среднее</td>\n",
       "      <td>1</td>\n",
       "      <td>женат / замужем</td>\n",
       "      <td>0</td>\n",
       "      <td>M</td>\n",
       "      <td>сотрудник</td>\n",
       "      <td>0</td>\n",
       "      <td>145885.952297</td>\n",
       "      <td>покупка жилья</td>\n",
       "    </tr>\n",
       "    <tr>\n",
       "      <th>3</th>\n",
       "      <td>3</td>\n",
       "      <td>-4124.747207</td>\n",
       "      <td>32</td>\n",
       "      <td>среднее</td>\n",
       "      <td>1</td>\n",
       "      <td>женат / замужем</td>\n",
       "      <td>0</td>\n",
       "      <td>M</td>\n",
       "      <td>сотрудник</td>\n",
       "      <td>0</td>\n",
       "      <td>267628.550329</td>\n",
       "      <td>дополнительное образование</td>\n",
       "    </tr>\n",
       "    <tr>\n",
       "      <th>4</th>\n",
       "      <td>0</td>\n",
       "      <td>340266.072047</td>\n",
       "      <td>53</td>\n",
       "      <td>среднее</td>\n",
       "      <td>1</td>\n",
       "      <td>гражданский брак</td>\n",
       "      <td>1</td>\n",
       "      <td>F</td>\n",
       "      <td>пенсионер</td>\n",
       "      <td>0</td>\n",
       "      <td>158616.077870</td>\n",
       "      <td>сыграть свадьбу</td>\n",
       "    </tr>\n",
       "    <tr>\n",
       "      <th>5</th>\n",
       "      <td>0</td>\n",
       "      <td>-926.185831</td>\n",
       "      <td>27</td>\n",
       "      <td>высшее</td>\n",
       "      <td>0</td>\n",
       "      <td>гражданский брак</td>\n",
       "      <td>1</td>\n",
       "      <td>M</td>\n",
       "      <td>компаньон</td>\n",
       "      <td>0</td>\n",
       "      <td>255763.565419</td>\n",
       "      <td>покупка жилья</td>\n",
       "    </tr>\n",
       "    <tr>\n",
       "      <th>6</th>\n",
       "      <td>0</td>\n",
       "      <td>-2879.202052</td>\n",
       "      <td>43</td>\n",
       "      <td>высшее</td>\n",
       "      <td>0</td>\n",
       "      <td>женат / замужем</td>\n",
       "      <td>0</td>\n",
       "      <td>F</td>\n",
       "      <td>компаньон</td>\n",
       "      <td>0</td>\n",
       "      <td>240525.971920</td>\n",
       "      <td>операции с жильем</td>\n",
       "    </tr>\n",
       "    <tr>\n",
       "      <th>7</th>\n",
       "      <td>0</td>\n",
       "      <td>-152.779569</td>\n",
       "      <td>50</td>\n",
       "      <td>СРЕДНЕЕ</td>\n",
       "      <td>1</td>\n",
       "      <td>женат / замужем</td>\n",
       "      <td>0</td>\n",
       "      <td>M</td>\n",
       "      <td>сотрудник</td>\n",
       "      <td>0</td>\n",
       "      <td>135823.934197</td>\n",
       "      <td>образование</td>\n",
       "    </tr>\n",
       "    <tr>\n",
       "      <th>8</th>\n",
       "      <td>2</td>\n",
       "      <td>-6929.865299</td>\n",
       "      <td>35</td>\n",
       "      <td>ВЫСШЕЕ</td>\n",
       "      <td>0</td>\n",
       "      <td>гражданский брак</td>\n",
       "      <td>1</td>\n",
       "      <td>F</td>\n",
       "      <td>сотрудник</td>\n",
       "      <td>0</td>\n",
       "      <td>95856.832424</td>\n",
       "      <td>на проведение свадьбы</td>\n",
       "    </tr>\n",
       "    <tr>\n",
       "      <th>9</th>\n",
       "      <td>0</td>\n",
       "      <td>-2188.756445</td>\n",
       "      <td>41</td>\n",
       "      <td>среднее</td>\n",
       "      <td>1</td>\n",
       "      <td>женат / замужем</td>\n",
       "      <td>0</td>\n",
       "      <td>M</td>\n",
       "      <td>сотрудник</td>\n",
       "      <td>0</td>\n",
       "      <td>144425.938277</td>\n",
       "      <td>покупка жилья для семьи</td>\n",
       "    </tr>\n",
       "    <tr>\n",
       "      <th>10</th>\n",
       "      <td>2</td>\n",
       "      <td>-4171.483647</td>\n",
       "      <td>36</td>\n",
       "      <td>высшее</td>\n",
       "      <td>0</td>\n",
       "      <td>женат / замужем</td>\n",
       "      <td>0</td>\n",
       "      <td>M</td>\n",
       "      <td>компаньон</td>\n",
       "      <td>0</td>\n",
       "      <td>113943.491460</td>\n",
       "      <td>покупка недвижимости</td>\n",
       "    </tr>\n",
       "    <tr>\n",
       "      <th>11</th>\n",
       "      <td>0</td>\n",
       "      <td>-792.701887</td>\n",
       "      <td>40</td>\n",
       "      <td>среднее</td>\n",
       "      <td>1</td>\n",
       "      <td>женат / замужем</td>\n",
       "      <td>0</td>\n",
       "      <td>F</td>\n",
       "      <td>сотрудник</td>\n",
       "      <td>0</td>\n",
       "      <td>77069.234271</td>\n",
       "      <td>покупка коммерческой недвижимости</td>\n",
       "    </tr>\n",
       "    <tr>\n",
       "      <th>12</th>\n",
       "      <td>0</td>\n",
       "      <td>NaN</td>\n",
       "      <td>65</td>\n",
       "      <td>среднее</td>\n",
       "      <td>1</td>\n",
       "      <td>гражданский брак</td>\n",
       "      <td>1</td>\n",
       "      <td>M</td>\n",
       "      <td>пенсионер</td>\n",
       "      <td>0</td>\n",
       "      <td>NaN</td>\n",
       "      <td>сыграть свадьбу</td>\n",
       "    </tr>\n",
       "    <tr>\n",
       "      <th>13</th>\n",
       "      <td>0</td>\n",
       "      <td>-1846.641941</td>\n",
       "      <td>54</td>\n",
       "      <td>неоконченное высшее</td>\n",
       "      <td>2</td>\n",
       "      <td>женат / замужем</td>\n",
       "      <td>0</td>\n",
       "      <td>F</td>\n",
       "      <td>сотрудник</td>\n",
       "      <td>0</td>\n",
       "      <td>130458.228857</td>\n",
       "      <td>приобретение автомобиля</td>\n",
       "    </tr>\n",
       "    <tr>\n",
       "      <th>14</th>\n",
       "      <td>0</td>\n",
       "      <td>-1844.956182</td>\n",
       "      <td>56</td>\n",
       "      <td>высшее</td>\n",
       "      <td>0</td>\n",
       "      <td>гражданский брак</td>\n",
       "      <td>1</td>\n",
       "      <td>F</td>\n",
       "      <td>компаньон</td>\n",
       "      <td>1</td>\n",
       "      <td>165127.911772</td>\n",
       "      <td>покупка жилой недвижимости</td>\n",
       "    </tr>\n",
       "    <tr>\n",
       "      <th>15</th>\n",
       "      <td>1</td>\n",
       "      <td>-972.364419</td>\n",
       "      <td>26</td>\n",
       "      <td>среднее</td>\n",
       "      <td>1</td>\n",
       "      <td>женат / замужем</td>\n",
       "      <td>0</td>\n",
       "      <td>F</td>\n",
       "      <td>сотрудник</td>\n",
       "      <td>0</td>\n",
       "      <td>116820.904450</td>\n",
       "      <td>строительство собственной недвижимости</td>\n",
       "    </tr>\n",
       "    <tr>\n",
       "      <th>16</th>\n",
       "      <td>0</td>\n",
       "      <td>-1719.934226</td>\n",
       "      <td>35</td>\n",
       "      <td>среднее</td>\n",
       "      <td>1</td>\n",
       "      <td>женат / замужем</td>\n",
       "      <td>0</td>\n",
       "      <td>F</td>\n",
       "      <td>сотрудник</td>\n",
       "      <td>0</td>\n",
       "      <td>289202.704229</td>\n",
       "      <td>недвижимость</td>\n",
       "    </tr>\n",
       "    <tr>\n",
       "      <th>17</th>\n",
       "      <td>0</td>\n",
       "      <td>-2369.999720</td>\n",
       "      <td>33</td>\n",
       "      <td>высшее</td>\n",
       "      <td>0</td>\n",
       "      <td>гражданский брак</td>\n",
       "      <td>1</td>\n",
       "      <td>M</td>\n",
       "      <td>сотрудник</td>\n",
       "      <td>0</td>\n",
       "      <td>90410.586745</td>\n",
       "      <td>строительство недвижимости</td>\n",
       "    </tr>\n",
       "    <tr>\n",
       "      <th>18</th>\n",
       "      <td>0</td>\n",
       "      <td>400281.136913</td>\n",
       "      <td>53</td>\n",
       "      <td>среднее</td>\n",
       "      <td>1</td>\n",
       "      <td>вдовец / вдова</td>\n",
       "      <td>2</td>\n",
       "      <td>F</td>\n",
       "      <td>пенсионер</td>\n",
       "      <td>0</td>\n",
       "      <td>56823.777243</td>\n",
       "      <td>на покупку подержанного автомобиля</td>\n",
       "    </tr>\n",
       "    <tr>\n",
       "      <th>19</th>\n",
       "      <td>0</td>\n",
       "      <td>-10038.818549</td>\n",
       "      <td>48</td>\n",
       "      <td>СРЕДНЕЕ</td>\n",
       "      <td>1</td>\n",
       "      <td>в разводе</td>\n",
       "      <td>3</td>\n",
       "      <td>F</td>\n",
       "      <td>сотрудник</td>\n",
       "      <td>0</td>\n",
       "      <td>242831.107982</td>\n",
       "      <td>на покупку своего автомобиля</td>\n",
       "    </tr>\n",
       "  </tbody>\n",
       "</table>\n",
       "</div>"
      ],
      "text/plain": [
       "    children  days_employed  dob_years            education  education_id  \\\n",
       "0          1   -8437.673028         42               высшее             0   \n",
       "1          1   -4024.803754         36              среднее             1   \n",
       "2          0   -5623.422610         33              Среднее             1   \n",
       "3          3   -4124.747207         32              среднее             1   \n",
       "4          0  340266.072047         53              среднее             1   \n",
       "5          0    -926.185831         27               высшее             0   \n",
       "6          0   -2879.202052         43               высшее             0   \n",
       "7          0    -152.779569         50              СРЕДНЕЕ             1   \n",
       "8          2   -6929.865299         35               ВЫСШЕЕ             0   \n",
       "9          0   -2188.756445         41              среднее             1   \n",
       "10         2   -4171.483647         36               высшее             0   \n",
       "11         0    -792.701887         40              среднее             1   \n",
       "12         0            NaN         65              среднее             1   \n",
       "13         0   -1846.641941         54  неоконченное высшее             2   \n",
       "14         0   -1844.956182         56               высшее             0   \n",
       "15         1    -972.364419         26              среднее             1   \n",
       "16         0   -1719.934226         35              среднее             1   \n",
       "17         0   -2369.999720         33               высшее             0   \n",
       "18         0  400281.136913         53              среднее             1   \n",
       "19         0  -10038.818549         48              СРЕДНЕЕ             1   \n",
       "\n",
       "       family_status  family_status_id gender income_type  debt  \\\n",
       "0    женат / замужем                 0      F   сотрудник     0   \n",
       "1    женат / замужем                 0      F   сотрудник     0   \n",
       "2    женат / замужем                 0      M   сотрудник     0   \n",
       "3    женат / замужем                 0      M   сотрудник     0   \n",
       "4   гражданский брак                 1      F   пенсионер     0   \n",
       "5   гражданский брак                 1      M   компаньон     0   \n",
       "6    женат / замужем                 0      F   компаньон     0   \n",
       "7    женат / замужем                 0      M   сотрудник     0   \n",
       "8   гражданский брак                 1      F   сотрудник     0   \n",
       "9    женат / замужем                 0      M   сотрудник     0   \n",
       "10   женат / замужем                 0      M   компаньон     0   \n",
       "11   женат / замужем                 0      F   сотрудник     0   \n",
       "12  гражданский брак                 1      M   пенсионер     0   \n",
       "13   женат / замужем                 0      F   сотрудник     0   \n",
       "14  гражданский брак                 1      F   компаньон     1   \n",
       "15   женат / замужем                 0      F   сотрудник     0   \n",
       "16   женат / замужем                 0      F   сотрудник     0   \n",
       "17  гражданский брак                 1      M   сотрудник     0   \n",
       "18    вдовец / вдова                 2      F   пенсионер     0   \n",
       "19         в разводе                 3      F   сотрудник     0   \n",
       "\n",
       "     total_income                                 purpose  \n",
       "0   253875.639453                           покупка жилья  \n",
       "1   112080.014102                 приобретение автомобиля  \n",
       "2   145885.952297                           покупка жилья  \n",
       "3   267628.550329              дополнительное образование  \n",
       "4   158616.077870                         сыграть свадьбу  \n",
       "5   255763.565419                           покупка жилья  \n",
       "6   240525.971920                       операции с жильем  \n",
       "7   135823.934197                             образование  \n",
       "8    95856.832424                   на проведение свадьбы  \n",
       "9   144425.938277                 покупка жилья для семьи  \n",
       "10  113943.491460                    покупка недвижимости  \n",
       "11   77069.234271       покупка коммерческой недвижимости  \n",
       "12            NaN                         сыграть свадьбу  \n",
       "13  130458.228857                 приобретение автомобиля  \n",
       "14  165127.911772              покупка жилой недвижимости  \n",
       "15  116820.904450  строительство собственной недвижимости  \n",
       "16  289202.704229                            недвижимость  \n",
       "17   90410.586745              строительство недвижимости  \n",
       "18   56823.777243      на покупку подержанного автомобиля  \n",
       "19  242831.107982            на покупку своего автомобиля  "
      ]
     },
     "execution_count": 2,
     "metadata": {},
     "output_type": "execute_result"
    }
   ],
   "source": [
    "data.head(20)"
   ]
  },
  {
   "attachments": {},
   "cell_type": "markdown",
   "id": "6f93cbce",
   "metadata": {
    "deletable": false,
    "editable": false,
    "id": "1c12e233"
   },
   "source": [
    "Выведем основную информацию о датафрейме с помощью метода `info()`."
   ]
  },
  {
   "cell_type": "code",
   "execution_count": 3,
   "id": "0fe4d826",
   "metadata": {
    "deletable": false,
    "id": "2b757bca",
    "outputId": "15376089-8dad-46c9-b520-c05248d43158"
   },
   "outputs": [
    {
     "name": "stdout",
     "output_type": "stream",
     "text": [
      "<class 'pandas.core.frame.DataFrame'>\n",
      "RangeIndex: 21525 entries, 0 to 21524\n",
      "Data columns (total 12 columns):\n",
      " #   Column            Non-Null Count  Dtype  \n",
      "---  ------            --------------  -----  \n",
      " 0   children          21525 non-null  int64  \n",
      " 1   days_employed     19351 non-null  float64\n",
      " 2   dob_years         21525 non-null  int64  \n",
      " 3   education         21525 non-null  object \n",
      " 4   education_id      21525 non-null  int64  \n",
      " 5   family_status     21525 non-null  object \n",
      " 6   family_status_id  21525 non-null  int64  \n",
      " 7   gender            21525 non-null  object \n",
      " 8   income_type       21525 non-null  object \n",
      " 9   debt              21525 non-null  int64  \n",
      " 10  total_income      19351 non-null  float64\n",
      " 11  purpose           21525 non-null  object \n",
      "dtypes: float64(2), int64(5), object(5)\n",
      "memory usage: 2.0+ MB\n"
     ]
    }
   ],
   "source": [
    "data.info()"
   ]
  },
  {
   "cell_type": "markdown",
   "id": "7f59c014",
   "metadata": {
    "deletable": false,
    "editable": false,
    "id": "333ec665"
   },
   "source": [
    "## Предобработка данных"
   ]
  },
  {
   "cell_type": "markdown",
   "id": "bf744cb2",
   "metadata": {
    "deletable": false,
    "editable": false,
    "id": "02d92d53"
   },
   "source": [
    "### Удаление пропусков"
   ]
  },
  {
   "attachments": {},
   "cell_type": "markdown",
   "id": "c6ec53cc",
   "metadata": {
    "deletable": false,
    "editable": false,
    "id": "cd84967c"
   },
   "source": [
    " Выведем количество пропущенных значений для каждого столбца. Используем комбинацию двух методов."
   ]
  },
  {
   "cell_type": "code",
   "execution_count": 4,
   "id": "6f5d9302",
   "metadata": {
    "deletable": false,
    "id": "7f9b2309",
    "outputId": "81f4d817-781c-465c-ed15-91ce4446810d"
   },
   "outputs": [
    {
     "data": {
      "text/plain": [
       "children               0\n",
       "days_employed       2174\n",
       "dob_years              0\n",
       "education              0\n",
       "education_id           0\n",
       "family_status          0\n",
       "family_status_id       0\n",
       "gender                 0\n",
       "income_type            0\n",
       "debt                   0\n",
       "total_income        2174\n",
       "purpose                0\n",
       "dtype: int64"
      ]
     },
     "execution_count": 4,
     "metadata": {},
     "output_type": "execute_result"
    }
   ],
   "source": [
    "data.isna().sum()"
   ]
  },
  {
   "attachments": {},
   "cell_type": "markdown",
   "id": "174096ae",
   "metadata": {
    "deletable": false,
    "editable": false,
    "id": "db86e27b"
   },
   "source": [
    " В двух столбцах есть пропущенные значения. Один из них — `days_employed`. Пропуски в этом столбце мы обработаем на следующем этапе. Другой столбец с пропущенными значениями — `total_income` — хранит данные о доходах. На сумму дохода сильнее всего влияет тип занятости, поэтому заполнить пропуски в этом столбце нужно медианным значением по каждому типу из столбца `income_type`. Например, у человека с типом занятости `сотрудник` пропуск в столбце `total_income` должен быть заполнен медианным доходом среди всех записей с тем же типом."
   ]
  },
  {
   "cell_type": "code",
   "execution_count": 5,
   "id": "96cdb86e",
   "metadata": {
    "deletable": false,
    "id": "42006a93"
   },
   "outputs": [],
   "source": [
    "for t in data['income_type'].unique():\n",
    "    data.loc[(data['income_type'] == t) & (data['total_income'].isna()), 'total_income'] = \\\n",
    "    data.loc[(data['income_type'] == t), 'total_income'].median()"
   ]
  },
  {
   "cell_type": "markdown",
   "id": "641b240d",
   "metadata": {
    "deletable": false,
    "editable": false,
    "id": "89da5ece"
   },
   "source": [
    "### Обработка аномальных значений"
   ]
  },
  {
   "attachments": {},
   "cell_type": "markdown",
   "id": "956eedba",
   "metadata": {
    "deletable": false,
    "editable": false,
    "id": "57964554"
   },
   "source": [
    " В данных могут встречаться артефакты (аномалии) — значения, которые не отражают действительность и появились по какой-то ошибке. таким артефактом будет отрицательное количество дней трудового стажа в столбце `days_employed`. Для реальных данных это нормально. Обработаем значения в этом столбце: заменим все отрицательные значения положительными с помощью метода `abs()`."
   ]
  },
  {
   "cell_type": "code",
   "execution_count": 6,
   "id": "8dd25d82",
   "metadata": {
    "deletable": false,
    "id": "f6f055bf"
   },
   "outputs": [],
   "source": [
    "data['days_employed'] = data['days_employed'].abs()"
   ]
  },
  {
   "attachments": {},
   "cell_type": "markdown",
   "id": "7d075281",
   "metadata": {
    "deletable": false,
    "editable": false,
    "id": "6107dd2f"
   },
   "source": [
    "Для каждого типа занятости выведем медианное значение трудового стажа `days_employed` в днях."
   ]
  },
  {
   "cell_type": "code",
   "execution_count": 7,
   "id": "e2d7c72d",
   "metadata": {
    "deletable": false,
    "id": "85a5faf6",
    "outputId": "801ef80e-522b-4668-f34e-565af7432bcf"
   },
   "outputs": [
    {
     "data": {
      "text/plain": [
       "income_type\n",
       "безработный        366413.652744\n",
       "в декрете            3296.759962\n",
       "госслужащий          2689.368353\n",
       "компаньон            1547.382223\n",
       "пенсионер          365213.306266\n",
       "предприниматель       520.848083\n",
       "сотрудник            1574.202821\n",
       "студент               578.751554\n",
       "Name: days_employed, dtype: float64"
      ]
     },
     "execution_count": 7,
     "metadata": {},
     "output_type": "execute_result"
    }
   ],
   "source": [
    "data.groupby('income_type')['days_employed'].agg('median')"
   ]
  },
  {
   "attachments": {},
   "cell_type": "markdown",
   "id": "7fd9f2e0",
   "metadata": {
    "deletable": false,
    "editable": false,
    "id": "38d1a030"
   },
   "source": [
    "У двух типов (безработные и пенсионеры) получатся аномально большие значения. Исправить такие значения сложно, поэтому оставим их как есть. Тем более этот столбец не понадобится для исследования."
   ]
  },
  {
   "attachments": {},
   "cell_type": "markdown",
   "id": "9bd0157b",
   "metadata": {
    "deletable": false,
    "editable": false,
    "id": "d8a9f147"
   },
   "source": [
    "Выведем перечень уникальных значений столбца `children`."
   ]
  },
  {
   "cell_type": "code",
   "execution_count": 8,
   "id": "0865e75b",
   "metadata": {
    "deletable": false,
    "id": "ef5056eb",
    "outputId": "6975b15c-7f95-4697-d16d-a0c79b657b03"
   },
   "outputs": [
    {
     "data": {
      "text/plain": [
       "array([ 1,  0,  3,  2, -1,  4, 20,  5], dtype=int64)"
      ]
     },
     "execution_count": 8,
     "metadata": {},
     "output_type": "execute_result"
    }
   ],
   "source": [
    "data['children'].unique()"
   ]
  },
  {
   "attachments": {},
   "cell_type": "markdown",
   "id": "62f47913",
   "metadata": {
    "deletable": false,
    "editable": false,
    "id": "40b9ebf2"
   },
   "source": [
    " В столбце `children` есть два аномальных значения. Удалим строки, в которых встречаются такие аномальные значения из датафрейма `data`."
   ]
  },
  {
   "cell_type": "code",
   "execution_count": 9,
   "id": "6b01612c",
   "metadata": {
    "deletable": false,
    "id": "3ff9801d"
   },
   "outputs": [],
   "source": [
    "data = data[(data['children'] != -1) & (data['children'] != 20)]"
   ]
  },
  {
   "attachments": {},
   "cell_type": "markdown",
   "id": "d47dfc50",
   "metadata": {
    "deletable": false,
    "editable": false,
    "id": "bbc4d0ce"
   },
   "source": [
    "Ещё раз выведем перечень уникальных значений столбца `children`, чтобы убедиться, что артефакты удалены."
   ]
  },
  {
   "cell_type": "code",
   "execution_count": 10,
   "id": "24c15ef5",
   "metadata": {
    "deletable": false,
    "id": "ad4fa8b7",
    "outputId": "b2097101-d49d-44d9-901b-32a65c9463d1"
   },
   "outputs": [
    {
     "data": {
      "text/plain": [
       "array([1, 0, 3, 2, 4, 5], dtype=int64)"
      ]
     },
     "execution_count": 10,
     "metadata": {},
     "output_type": "execute_result"
    }
   ],
   "source": [
    "data['children'].unique()"
   ]
  },
  {
   "cell_type": "markdown",
   "id": "935dd9f2",
   "metadata": {
    "deletable": false,
    "editable": false,
    "id": "75440b63"
   },
   "source": [
    "### Удаление пропусков (продолжение)"
   ]
  },
  {
   "attachments": {},
   "cell_type": "markdown",
   "id": "e4949dcc",
   "metadata": {
    "deletable": false,
    "editable": false,
    "id": "f4ea573f"
   },
   "source": [
    "Заполним пропуски в столбце `days_employed` медианными значениями по каждого типа занятости `income_type`."
   ]
  },
  {
   "cell_type": "code",
   "execution_count": 11,
   "id": "53dc2804",
   "metadata": {
    "deletable": false,
    "id": "af6b1a7e"
   },
   "outputs": [],
   "source": [
    "for t in data['income_type'].unique():\n",
    "    data.loc[(data['income_type'] == t) & (data['days_employed'].isna()), 'days_employed'] = \\\n",
    "    data.loc[(data['income_type'] == t), 'days_employed'].median()"
   ]
  },
  {
   "attachments": {},
   "cell_type": "markdown",
   "id": "ac68fd35",
   "metadata": {
    "deletable": false,
    "editable": false,
    "id": "2753f40d"
   },
   "source": [
    "Убедимся, что все пропуски заполнены. Проверим себя и ещё раз выведем количество пропущенных значений для каждого столбца с помощью двух методов."
   ]
  },
  {
   "cell_type": "code",
   "execution_count": 12,
   "id": "6d469a7b",
   "metadata": {
    "deletable": false,
    "id": "55f78bc2",
    "outputId": "8da1e4e1-358e-4e87-98c9-f261bce0a7b2"
   },
   "outputs": [
    {
     "data": {
      "text/plain": [
       "children            0\n",
       "days_employed       0\n",
       "dob_years           0\n",
       "education           0\n",
       "education_id        0\n",
       "family_status       0\n",
       "family_status_id    0\n",
       "gender              0\n",
       "income_type         0\n",
       "debt                0\n",
       "total_income        0\n",
       "purpose             0\n",
       "dtype: int64"
      ]
     },
     "execution_count": 12,
     "metadata": {},
     "output_type": "execute_result"
    }
   ],
   "source": [
    "data.isna().sum()"
   ]
  },
  {
   "cell_type": "markdown",
   "id": "22ee8312",
   "metadata": {
    "deletable": false,
    "editable": false,
    "id": "ddc81e43"
   },
   "source": [
    "### Изменение типов данных"
   ]
  },
  {
   "attachments": {},
   "cell_type": "markdown",
   "id": "1d0afb9d",
   "metadata": {
    "deletable": false,
    "editable": false,
    "id": "42d19d24"
   },
   "source": [
    " Заменим вещественный тип данных в столбце `total_income` на целочисленный с помощью метода `astype()`."
   ]
  },
  {
   "cell_type": "code",
   "execution_count": 13,
   "id": "9740db1a",
   "metadata": {
    "deletable": false,
    "id": "920b65ad"
   },
   "outputs": [],
   "source": [
    "data['total_income'] = data['total_income'].astype(int)"
   ]
  },
  {
   "cell_type": "markdown",
   "id": "e5c8c901",
   "metadata": {
    "deletable": false,
    "editable": false,
    "id": "80c420ba"
   },
   "source": [
    "### Обработка дубликатов"
   ]
  },
  {
   "attachments": {},
   "cell_type": "markdown",
   "id": "8e206092",
   "metadata": {
    "deletable": false,
    "editable": false
   },
   "source": [
    "Обработаем неявные дубликаты в столбце `education`. В этом столбце есть одни и те же значения, но записанные по-разному: с использованием заглавных и строчных букв. Приведем их к нижнему регистру. Проверим остальные столбцы."
   ]
  },
  {
   "cell_type": "code",
   "execution_count": 14,
   "id": "3c5b2e3c",
   "metadata": {
    "deletable": false
   },
   "outputs": [],
   "source": [
    "data['education'] = data['education'].str.lower()"
   ]
  },
  {
   "attachments": {},
   "cell_type": "markdown",
   "id": "0e4f8f27",
   "metadata": {
    "deletable": false,
    "editable": false,
    "id": "dc587695"
   },
   "source": [
    "Выведем на экран количество строк-дубликатов в данных. Если такие строки присутствуют, удалим их."
   ]
  },
  {
   "cell_type": "code",
   "execution_count": 15,
   "id": "5a996661",
   "metadata": {
    "deletable": false,
    "id": "3ee445e4",
    "outputId": "9684deba-1934-42d1-99e1-cda61740f822"
   },
   "outputs": [
    {
     "data": {
      "text/plain": [
       "71"
      ]
     },
     "execution_count": 15,
     "metadata": {},
     "output_type": "execute_result"
    }
   ],
   "source": [
    "data.duplicated().sum()"
   ]
  },
  {
   "cell_type": "code",
   "execution_count": 16,
   "id": "e132541f",
   "metadata": {
    "deletable": false,
    "id": "8575fe05"
   },
   "outputs": [],
   "source": [
    "data = data.drop_duplicates()"
   ]
  },
  {
   "cell_type": "markdown",
   "id": "727774de",
   "metadata": {
    "deletable": false,
    "editable": false,
    "id": "9904cf55"
   },
   "source": [
    "### Категоризация данных"
   ]
  },
  {
   "attachments": {},
   "cell_type": "markdown",
   "id": "546e2944",
   "metadata": {
    "deletable": false,
    "editable": false,
    "id": "72fcc8a2"
   },
   "source": [
    " На основании диапазонов, указанных ниже, создадим в датафрейме `data` столбец `total_income_category` с категориями:**\n",
    "\n",
    "- 0–30000 — `'E'`;\n",
    "- 30001–50000 — `'D'`;\n",
    "- 50001–200000 — `'C'`;\n",
    "- 200001–1000000 — `'B'`;\n",
    "- 1000001 и выше — `'A'`.\n",
    "\n",
    "\n",
    "**Например, кредитополучателю с доходом 25000 нужно назначить категорию `'E'`, а клиенту, получающему 235000, — `'B'`. Используйте собственную функцию с именем `categorize_income()` и метод `apply()`."
   ]
  },
  {
   "cell_type": "code",
   "execution_count": 17,
   "id": "1ae634d7",
   "metadata": {
    "deletable": false,
    "id": "e1771346"
   },
   "outputs": [],
   "source": [
    "def categorize_income(income):\n",
    "    try:\n",
    "        if 0 <= income <= 30000:\n",
    "            return 'E'\n",
    "        elif 30001 <= income <= 50000:\n",
    "            return 'D'\n",
    "        elif 50001 <= income <= 200000:\n",
    "            return 'C'\n",
    "        elif 200001 <= income <= 1000000:\n",
    "            return 'B'\n",
    "        elif income >= 1000001:\n",
    "            return 'A'\n",
    "    except:\n",
    "        pass"
   ]
  },
  {
   "cell_type": "code",
   "execution_count": 18,
   "id": "42f27626",
   "metadata": {
    "deletable": false,
    "id": "d5f3586d"
   },
   "outputs": [],
   "source": [
    "data['total_income_category'] = data['total_income'].apply(categorize_income)"
   ]
  },
  {
   "attachments": {},
   "cell_type": "markdown",
   "id": "bdf3b601",
   "metadata": {
    "deletable": false,
    "editable": false,
    "id": "dde49b5c"
   },
   "source": [
    "Выведем на экран перечень уникальных целей взятия кредита из столбца `purpose`."
   ]
  },
  {
   "cell_type": "code",
   "execution_count": 19,
   "id": "edc88a94",
   "metadata": {
    "deletable": false,
    "id": "f67ce9b3",
    "outputId": "673c12d9-7d7e-4ae0-9812-c622c89dd244"
   },
   "outputs": [
    {
     "data": {
      "text/plain": [
       "array(['покупка жилья', 'приобретение автомобиля',\n",
       "       'дополнительное образование', 'сыграть свадьбу',\n",
       "       'операции с жильем', 'образование', 'на проведение свадьбы',\n",
       "       'покупка жилья для семьи', 'покупка недвижимости',\n",
       "       'покупка коммерческой недвижимости', 'покупка жилой недвижимости',\n",
       "       'строительство собственной недвижимости', 'недвижимость',\n",
       "       'строительство недвижимости', 'на покупку подержанного автомобиля',\n",
       "       'на покупку своего автомобиля',\n",
       "       'операции с коммерческой недвижимостью',\n",
       "       'строительство жилой недвижимости', 'жилье',\n",
       "       'операции со своей недвижимостью', 'автомобили',\n",
       "       'заняться образованием', 'сделка с подержанным автомобилем',\n",
       "       'получение образования', 'автомобиль', 'свадьба',\n",
       "       'получение дополнительного образования', 'покупка своего жилья',\n",
       "       'операции с недвижимостью', 'получение высшего образования',\n",
       "       'свой автомобиль', 'сделка с автомобилем',\n",
       "       'профильное образование', 'высшее образование',\n",
       "       'покупка жилья для сдачи', 'на покупку автомобиля', 'ремонт жилью',\n",
       "       'заняться высшим образованием'], dtype=object)"
      ]
     },
     "execution_count": 19,
     "metadata": {},
     "output_type": "execute_result"
    }
   ],
   "source": [
    "data['purpose'].unique()"
   ]
  },
  {
   "attachments": {},
   "cell_type": "markdown",
   "id": "e5d19c4c",
   "metadata": {
    "deletable": false,
    "editable": false,
    "id": "85d0aef0"
   },
   "source": [
    " Создадим функцию, которая на основании данных из столбца `purpose` сформирует новый столбец `purpose_category`, в который войдут следующие категории:\n",
    "\n",
    "- `'операции с автомобилем'`,\n",
    "- `'операции с недвижимостью'`,\n",
    "- `'проведение свадьбы'`,\n",
    "- `'получение образования'`.\n",
    "\n",
    "**Например, если в столбце `purpose` находится подстрока `'на покупку автомобиля'`, то в столбце `purpose_category` должна появиться строка `'операции с автомобилем'`.**\n",
    "\n",
    "**Используем собственную функцию с именем `categorize_purpose()` и метод `apply()`. Изучим данные в столбце `purpose` и определим, какие подстроки помогут нам правильно определить категорию.**"
   ]
  },
  {
   "cell_type": "code",
   "execution_count": 20,
   "id": "893b09b2",
   "metadata": {
    "deletable": false,
    "id": "e149fab4"
   },
   "outputs": [],
   "source": [
    "def categorize_purpose(row):\n",
    "    try:\n",
    "        if 'автом' in row:\n",
    "            return 'операции с автомобилем'\n",
    "        elif 'жил' in row or 'недвиж' in row:\n",
    "            return 'операции с недвижимостью'\n",
    "        elif 'свад' in row:\n",
    "            return 'проведение свадьбы'\n",
    "        elif 'образов' in row:\n",
    "            return 'получение образования'\n",
    "    except:\n",
    "        return 'нет категории'"
   ]
  },
  {
   "cell_type": "code",
   "execution_count": 21,
   "id": "fae67913",
   "metadata": {
    "deletable": false,
    "id": "bf36e69b"
   },
   "outputs": [],
   "source": [
    "data['purpose_category'] = data['purpose'].apply(categorize_purpose)"
   ]
  },
  {
   "cell_type": "code",
   "execution_count": 22,
   "id": "da07c3fc",
   "metadata": {},
   "outputs": [
    {
     "data": {
      "text/html": [
       "<div>\n",
       "<style scoped>\n",
       "    .dataframe tbody tr th:only-of-type {\n",
       "        vertical-align: middle;\n",
       "    }\n",
       "\n",
       "    .dataframe tbody tr th {\n",
       "        vertical-align: top;\n",
       "    }\n",
       "\n",
       "    .dataframe thead th {\n",
       "        text-align: right;\n",
       "    }\n",
       "</style>\n",
       "<table border=\"1\" class=\"dataframe\">\n",
       "  <thead>\n",
       "    <tr style=\"text-align: right;\">\n",
       "      <th></th>\n",
       "      <th>children</th>\n",
       "      <th>days_employed</th>\n",
       "      <th>dob_years</th>\n",
       "      <th>education</th>\n",
       "      <th>education_id</th>\n",
       "      <th>family_status</th>\n",
       "      <th>family_status_id</th>\n",
       "      <th>gender</th>\n",
       "      <th>income_type</th>\n",
       "      <th>debt</th>\n",
       "      <th>total_income</th>\n",
       "      <th>purpose</th>\n",
       "      <th>total_income_category</th>\n",
       "      <th>purpose_category</th>\n",
       "    </tr>\n",
       "  </thead>\n",
       "  <tbody>\n",
       "    <tr>\n",
       "      <th>0</th>\n",
       "      <td>1</td>\n",
       "      <td>8437.673028</td>\n",
       "      <td>42</td>\n",
       "      <td>высшее</td>\n",
       "      <td>0</td>\n",
       "      <td>женат / замужем</td>\n",
       "      <td>0</td>\n",
       "      <td>F</td>\n",
       "      <td>сотрудник</td>\n",
       "      <td>0</td>\n",
       "      <td>253875</td>\n",
       "      <td>покупка жилья</td>\n",
       "      <td>B</td>\n",
       "      <td>операции с недвижимостью</td>\n",
       "    </tr>\n",
       "    <tr>\n",
       "      <th>1</th>\n",
       "      <td>1</td>\n",
       "      <td>4024.803754</td>\n",
       "      <td>36</td>\n",
       "      <td>среднее</td>\n",
       "      <td>1</td>\n",
       "      <td>женат / замужем</td>\n",
       "      <td>0</td>\n",
       "      <td>F</td>\n",
       "      <td>сотрудник</td>\n",
       "      <td>0</td>\n",
       "      <td>112080</td>\n",
       "      <td>приобретение автомобиля</td>\n",
       "      <td>C</td>\n",
       "      <td>операции с автомобилем</td>\n",
       "    </tr>\n",
       "    <tr>\n",
       "      <th>2</th>\n",
       "      <td>0</td>\n",
       "      <td>5623.422610</td>\n",
       "      <td>33</td>\n",
       "      <td>среднее</td>\n",
       "      <td>1</td>\n",
       "      <td>женат / замужем</td>\n",
       "      <td>0</td>\n",
       "      <td>M</td>\n",
       "      <td>сотрудник</td>\n",
       "      <td>0</td>\n",
       "      <td>145885</td>\n",
       "      <td>покупка жилья</td>\n",
       "      <td>C</td>\n",
       "      <td>операции с недвижимостью</td>\n",
       "    </tr>\n",
       "    <tr>\n",
       "      <th>3</th>\n",
       "      <td>3</td>\n",
       "      <td>4124.747207</td>\n",
       "      <td>32</td>\n",
       "      <td>среднее</td>\n",
       "      <td>1</td>\n",
       "      <td>женат / замужем</td>\n",
       "      <td>0</td>\n",
       "      <td>M</td>\n",
       "      <td>сотрудник</td>\n",
       "      <td>0</td>\n",
       "      <td>267628</td>\n",
       "      <td>дополнительное образование</td>\n",
       "      <td>B</td>\n",
       "      <td>получение образования</td>\n",
       "    </tr>\n",
       "    <tr>\n",
       "      <th>4</th>\n",
       "      <td>0</td>\n",
       "      <td>340266.072047</td>\n",
       "      <td>53</td>\n",
       "      <td>среднее</td>\n",
       "      <td>1</td>\n",
       "      <td>гражданский брак</td>\n",
       "      <td>1</td>\n",
       "      <td>F</td>\n",
       "      <td>пенсионер</td>\n",
       "      <td>0</td>\n",
       "      <td>158616</td>\n",
       "      <td>сыграть свадьбу</td>\n",
       "      <td>C</td>\n",
       "      <td>проведение свадьбы</td>\n",
       "    </tr>\n",
       "    <tr>\n",
       "      <th>5</th>\n",
       "      <td>0</td>\n",
       "      <td>926.185831</td>\n",
       "      <td>27</td>\n",
       "      <td>высшее</td>\n",
       "      <td>0</td>\n",
       "      <td>гражданский брак</td>\n",
       "      <td>1</td>\n",
       "      <td>M</td>\n",
       "      <td>компаньон</td>\n",
       "      <td>0</td>\n",
       "      <td>255763</td>\n",
       "      <td>покупка жилья</td>\n",
       "      <td>B</td>\n",
       "      <td>операции с недвижимостью</td>\n",
       "    </tr>\n",
       "    <tr>\n",
       "      <th>6</th>\n",
       "      <td>0</td>\n",
       "      <td>2879.202052</td>\n",
       "      <td>43</td>\n",
       "      <td>высшее</td>\n",
       "      <td>0</td>\n",
       "      <td>женат / замужем</td>\n",
       "      <td>0</td>\n",
       "      <td>F</td>\n",
       "      <td>компаньон</td>\n",
       "      <td>0</td>\n",
       "      <td>240525</td>\n",
       "      <td>операции с жильем</td>\n",
       "      <td>B</td>\n",
       "      <td>операции с недвижимостью</td>\n",
       "    </tr>\n",
       "    <tr>\n",
       "      <th>7</th>\n",
       "      <td>0</td>\n",
       "      <td>152.779569</td>\n",
       "      <td>50</td>\n",
       "      <td>среднее</td>\n",
       "      <td>1</td>\n",
       "      <td>женат / замужем</td>\n",
       "      <td>0</td>\n",
       "      <td>M</td>\n",
       "      <td>сотрудник</td>\n",
       "      <td>0</td>\n",
       "      <td>135823</td>\n",
       "      <td>образование</td>\n",
       "      <td>C</td>\n",
       "      <td>получение образования</td>\n",
       "    </tr>\n",
       "    <tr>\n",
       "      <th>8</th>\n",
       "      <td>2</td>\n",
       "      <td>6929.865299</td>\n",
       "      <td>35</td>\n",
       "      <td>высшее</td>\n",
       "      <td>0</td>\n",
       "      <td>гражданский брак</td>\n",
       "      <td>1</td>\n",
       "      <td>F</td>\n",
       "      <td>сотрудник</td>\n",
       "      <td>0</td>\n",
       "      <td>95856</td>\n",
       "      <td>на проведение свадьбы</td>\n",
       "      <td>C</td>\n",
       "      <td>проведение свадьбы</td>\n",
       "    </tr>\n",
       "    <tr>\n",
       "      <th>9</th>\n",
       "      <td>0</td>\n",
       "      <td>2188.756445</td>\n",
       "      <td>41</td>\n",
       "      <td>среднее</td>\n",
       "      <td>1</td>\n",
       "      <td>женат / замужем</td>\n",
       "      <td>0</td>\n",
       "      <td>M</td>\n",
       "      <td>сотрудник</td>\n",
       "      <td>0</td>\n",
       "      <td>144425</td>\n",
       "      <td>покупка жилья для семьи</td>\n",
       "      <td>C</td>\n",
       "      <td>операции с недвижимостью</td>\n",
       "    </tr>\n",
       "    <tr>\n",
       "      <th>10</th>\n",
       "      <td>2</td>\n",
       "      <td>4171.483647</td>\n",
       "      <td>36</td>\n",
       "      <td>высшее</td>\n",
       "      <td>0</td>\n",
       "      <td>женат / замужем</td>\n",
       "      <td>0</td>\n",
       "      <td>M</td>\n",
       "      <td>компаньон</td>\n",
       "      <td>0</td>\n",
       "      <td>113943</td>\n",
       "      <td>покупка недвижимости</td>\n",
       "      <td>C</td>\n",
       "      <td>операции с недвижимостью</td>\n",
       "    </tr>\n",
       "    <tr>\n",
       "      <th>11</th>\n",
       "      <td>0</td>\n",
       "      <td>792.701887</td>\n",
       "      <td>40</td>\n",
       "      <td>среднее</td>\n",
       "      <td>1</td>\n",
       "      <td>женат / замужем</td>\n",
       "      <td>0</td>\n",
       "      <td>F</td>\n",
       "      <td>сотрудник</td>\n",
       "      <td>0</td>\n",
       "      <td>77069</td>\n",
       "      <td>покупка коммерческой недвижимости</td>\n",
       "      <td>C</td>\n",
       "      <td>операции с недвижимостью</td>\n",
       "    </tr>\n",
       "    <tr>\n",
       "      <th>12</th>\n",
       "      <td>0</td>\n",
       "      <td>365286.622650</td>\n",
       "      <td>65</td>\n",
       "      <td>среднее</td>\n",
       "      <td>1</td>\n",
       "      <td>гражданский брак</td>\n",
       "      <td>1</td>\n",
       "      <td>M</td>\n",
       "      <td>пенсионер</td>\n",
       "      <td>0</td>\n",
       "      <td>118514</td>\n",
       "      <td>сыграть свадьбу</td>\n",
       "      <td>C</td>\n",
       "      <td>проведение свадьбы</td>\n",
       "    </tr>\n",
       "    <tr>\n",
       "      <th>13</th>\n",
       "      <td>0</td>\n",
       "      <td>1846.641941</td>\n",
       "      <td>54</td>\n",
       "      <td>неоконченное высшее</td>\n",
       "      <td>2</td>\n",
       "      <td>женат / замужем</td>\n",
       "      <td>0</td>\n",
       "      <td>F</td>\n",
       "      <td>сотрудник</td>\n",
       "      <td>0</td>\n",
       "      <td>130458</td>\n",
       "      <td>приобретение автомобиля</td>\n",
       "      <td>C</td>\n",
       "      <td>операции с автомобилем</td>\n",
       "    </tr>\n",
       "    <tr>\n",
       "      <th>14</th>\n",
       "      <td>0</td>\n",
       "      <td>1844.956182</td>\n",
       "      <td>56</td>\n",
       "      <td>высшее</td>\n",
       "      <td>0</td>\n",
       "      <td>гражданский брак</td>\n",
       "      <td>1</td>\n",
       "      <td>F</td>\n",
       "      <td>компаньон</td>\n",
       "      <td>1</td>\n",
       "      <td>165127</td>\n",
       "      <td>покупка жилой недвижимости</td>\n",
       "      <td>C</td>\n",
       "      <td>операции с недвижимостью</td>\n",
       "    </tr>\n",
       "    <tr>\n",
       "      <th>15</th>\n",
       "      <td>1</td>\n",
       "      <td>972.364419</td>\n",
       "      <td>26</td>\n",
       "      <td>среднее</td>\n",
       "      <td>1</td>\n",
       "      <td>женат / замужем</td>\n",
       "      <td>0</td>\n",
       "      <td>F</td>\n",
       "      <td>сотрудник</td>\n",
       "      <td>0</td>\n",
       "      <td>116820</td>\n",
       "      <td>строительство собственной недвижимости</td>\n",
       "      <td>C</td>\n",
       "      <td>операции с недвижимостью</td>\n",
       "    </tr>\n",
       "    <tr>\n",
       "      <th>16</th>\n",
       "      <td>0</td>\n",
       "      <td>1719.934226</td>\n",
       "      <td>35</td>\n",
       "      <td>среднее</td>\n",
       "      <td>1</td>\n",
       "      <td>женат / замужем</td>\n",
       "      <td>0</td>\n",
       "      <td>F</td>\n",
       "      <td>сотрудник</td>\n",
       "      <td>0</td>\n",
       "      <td>289202</td>\n",
       "      <td>недвижимость</td>\n",
       "      <td>B</td>\n",
       "      <td>операции с недвижимостью</td>\n",
       "    </tr>\n",
       "    <tr>\n",
       "      <th>17</th>\n",
       "      <td>0</td>\n",
       "      <td>2369.999720</td>\n",
       "      <td>33</td>\n",
       "      <td>высшее</td>\n",
       "      <td>0</td>\n",
       "      <td>гражданский брак</td>\n",
       "      <td>1</td>\n",
       "      <td>M</td>\n",
       "      <td>сотрудник</td>\n",
       "      <td>0</td>\n",
       "      <td>90410</td>\n",
       "      <td>строительство недвижимости</td>\n",
       "      <td>C</td>\n",
       "      <td>операции с недвижимостью</td>\n",
       "    </tr>\n",
       "    <tr>\n",
       "      <th>18</th>\n",
       "      <td>0</td>\n",
       "      <td>400281.136913</td>\n",
       "      <td>53</td>\n",
       "      <td>среднее</td>\n",
       "      <td>1</td>\n",
       "      <td>вдовец / вдова</td>\n",
       "      <td>2</td>\n",
       "      <td>F</td>\n",
       "      <td>пенсионер</td>\n",
       "      <td>0</td>\n",
       "      <td>56823</td>\n",
       "      <td>на покупку подержанного автомобиля</td>\n",
       "      <td>C</td>\n",
       "      <td>операции с автомобилем</td>\n",
       "    </tr>\n",
       "    <tr>\n",
       "      <th>19</th>\n",
       "      <td>0</td>\n",
       "      <td>10038.818549</td>\n",
       "      <td>48</td>\n",
       "      <td>среднее</td>\n",
       "      <td>1</td>\n",
       "      <td>в разводе</td>\n",
       "      <td>3</td>\n",
       "      <td>F</td>\n",
       "      <td>сотрудник</td>\n",
       "      <td>0</td>\n",
       "      <td>242831</td>\n",
       "      <td>на покупку своего автомобиля</td>\n",
       "      <td>B</td>\n",
       "      <td>операции с автомобилем</td>\n",
       "    </tr>\n",
       "  </tbody>\n",
       "</table>\n",
       "</div>"
      ],
      "text/plain": [
       "    children  days_employed  dob_years            education  education_id  \\\n",
       "0          1    8437.673028         42               высшее             0   \n",
       "1          1    4024.803754         36              среднее             1   \n",
       "2          0    5623.422610         33              среднее             1   \n",
       "3          3    4124.747207         32              среднее             1   \n",
       "4          0  340266.072047         53              среднее             1   \n",
       "5          0     926.185831         27               высшее             0   \n",
       "6          0    2879.202052         43               высшее             0   \n",
       "7          0     152.779569         50              среднее             1   \n",
       "8          2    6929.865299         35               высшее             0   \n",
       "9          0    2188.756445         41              среднее             1   \n",
       "10         2    4171.483647         36               высшее             0   \n",
       "11         0     792.701887         40              среднее             1   \n",
       "12         0  365286.622650         65              среднее             1   \n",
       "13         0    1846.641941         54  неоконченное высшее             2   \n",
       "14         0    1844.956182         56               высшее             0   \n",
       "15         1     972.364419         26              среднее             1   \n",
       "16         0    1719.934226         35              среднее             1   \n",
       "17         0    2369.999720         33               высшее             0   \n",
       "18         0  400281.136913         53              среднее             1   \n",
       "19         0   10038.818549         48              среднее             1   \n",
       "\n",
       "       family_status  family_status_id gender income_type  debt  total_income  \\\n",
       "0    женат / замужем                 0      F   сотрудник     0        253875   \n",
       "1    женат / замужем                 0      F   сотрудник     0        112080   \n",
       "2    женат / замужем                 0      M   сотрудник     0        145885   \n",
       "3    женат / замужем                 0      M   сотрудник     0        267628   \n",
       "4   гражданский брак                 1      F   пенсионер     0        158616   \n",
       "5   гражданский брак                 1      M   компаньон     0        255763   \n",
       "6    женат / замужем                 0      F   компаньон     0        240525   \n",
       "7    женат / замужем                 0      M   сотрудник     0        135823   \n",
       "8   гражданский брак                 1      F   сотрудник     0         95856   \n",
       "9    женат / замужем                 0      M   сотрудник     0        144425   \n",
       "10   женат / замужем                 0      M   компаньон     0        113943   \n",
       "11   женат / замужем                 0      F   сотрудник     0         77069   \n",
       "12  гражданский брак                 1      M   пенсионер     0        118514   \n",
       "13   женат / замужем                 0      F   сотрудник     0        130458   \n",
       "14  гражданский брак                 1      F   компаньон     1        165127   \n",
       "15   женат / замужем                 0      F   сотрудник     0        116820   \n",
       "16   женат / замужем                 0      F   сотрудник     0        289202   \n",
       "17  гражданский брак                 1      M   сотрудник     0         90410   \n",
       "18    вдовец / вдова                 2      F   пенсионер     0         56823   \n",
       "19         в разводе                 3      F   сотрудник     0        242831   \n",
       "\n",
       "                                   purpose total_income_category  \\\n",
       "0                            покупка жилья                     B   \n",
       "1                  приобретение автомобиля                     C   \n",
       "2                            покупка жилья                     C   \n",
       "3               дополнительное образование                     B   \n",
       "4                          сыграть свадьбу                     C   \n",
       "5                            покупка жилья                     B   \n",
       "6                        операции с жильем                     B   \n",
       "7                              образование                     C   \n",
       "8                    на проведение свадьбы                     C   \n",
       "9                  покупка жилья для семьи                     C   \n",
       "10                    покупка недвижимости                     C   \n",
       "11       покупка коммерческой недвижимости                     C   \n",
       "12                         сыграть свадьбу                     C   \n",
       "13                 приобретение автомобиля                     C   \n",
       "14              покупка жилой недвижимости                     C   \n",
       "15  строительство собственной недвижимости                     C   \n",
       "16                            недвижимость                     B   \n",
       "17              строительство недвижимости                     C   \n",
       "18      на покупку подержанного автомобиля                     C   \n",
       "19            на покупку своего автомобиля                     B   \n",
       "\n",
       "            purpose_category  \n",
       "0   операции с недвижимостью  \n",
       "1     операции с автомобилем  \n",
       "2   операции с недвижимостью  \n",
       "3      получение образования  \n",
       "4         проведение свадьбы  \n",
       "5   операции с недвижимостью  \n",
       "6   операции с недвижимостью  \n",
       "7      получение образования  \n",
       "8         проведение свадьбы  \n",
       "9   операции с недвижимостью  \n",
       "10  операции с недвижимостью  \n",
       "11  операции с недвижимостью  \n",
       "12        проведение свадьбы  \n",
       "13    операции с автомобилем  \n",
       "14  операции с недвижимостью  \n",
       "15  операции с недвижимостью  \n",
       "16  операции с недвижимостью  \n",
       "17  операции с недвижимостью  \n",
       "18    операции с автомобилем  \n",
       "19    операции с автомобилем  "
      ]
     },
     "execution_count": 22,
     "metadata": {},
     "output_type": "execute_result"
    }
   ],
   "source": [
    "data.head(20)"
   ]
  },
  {
   "attachments": {},
   "cell_type": "markdown",
   "id": "703d52bc",
   "metadata": {
    "deletable": false,
    "editable": false,
    "id": "09b242bf"
   },
   "source": [
    "### Шаг 3. Исследуем данные и ответим на вопросы"
   ]
  },
  {
   "cell_type": "markdown",
   "id": "d053658b",
   "metadata": {
    "deletable": false,
    "editable": false,
    "id": "c5d66278"
   },
   "source": [
    "#### 3.1 Есть ли зависимость между количеством детей и возвратом кредита в срок?"
   ]
  },
  {
   "cell_type": "code",
   "execution_count": 23,
   "id": "5e410288",
   "metadata": {
    "deletable": false,
    "id": "2cacfc4a"
   },
   "outputs": [
    {
     "ename": "ImportError",
     "evalue": "Missing optional dependency 'Jinja2'. DataFrame.style requires jinja2. Use pip or conda to install Jinja2.",
     "output_type": "error",
     "traceback": [
      "\u001b[1;31m---------------------------------------------------------------------------\u001b[0m",
      "\u001b[1;31mModuleNotFoundError\u001b[0m                       Traceback (most recent call last)",
      "\u001b[1;32mc:\\Users\\37544\\AppData\\Local\\Programs\\Python\\Python39\\lib\\site-packages\\pandas\\compat\\_optional.py\u001b[0m in \u001b[0;36mimport_optional_dependency\u001b[1;34m(name, extra, errors, min_version)\u001b[0m\n\u001b[0;32m    140\u001b[0m     \u001b[1;32mtry\u001b[0m\u001b[1;33m:\u001b[0m\u001b[1;33m\u001b[0m\u001b[1;33m\u001b[0m\u001b[0m\n\u001b[1;32m--> 141\u001b[1;33m         \u001b[0mmodule\u001b[0m \u001b[1;33m=\u001b[0m \u001b[0mimportlib\u001b[0m\u001b[1;33m.\u001b[0m\u001b[0mimport_module\u001b[0m\u001b[1;33m(\u001b[0m\u001b[0mname\u001b[0m\u001b[1;33m)\u001b[0m\u001b[1;33m\u001b[0m\u001b[1;33m\u001b[0m\u001b[0m\n\u001b[0m\u001b[0;32m    142\u001b[0m     \u001b[1;32mexcept\u001b[0m \u001b[0mImportError\u001b[0m\u001b[1;33m:\u001b[0m\u001b[1;33m\u001b[0m\u001b[1;33m\u001b[0m\u001b[0m\n",
      "\u001b[1;32mc:\\Users\\37544\\AppData\\Local\\Programs\\Python\\Python39\\lib\\importlib\\__init__.py\u001b[0m in \u001b[0;36mimport_module\u001b[1;34m(name, package)\u001b[0m\n\u001b[0;32m    126\u001b[0m             \u001b[0mlevel\u001b[0m \u001b[1;33m+=\u001b[0m \u001b[1;36m1\u001b[0m\u001b[1;33m\u001b[0m\u001b[1;33m\u001b[0m\u001b[0m\n\u001b[1;32m--> 127\u001b[1;33m     \u001b[1;32mreturn\u001b[0m \u001b[0m_bootstrap\u001b[0m\u001b[1;33m.\u001b[0m\u001b[0m_gcd_import\u001b[0m\u001b[1;33m(\u001b[0m\u001b[0mname\u001b[0m\u001b[1;33m[\u001b[0m\u001b[0mlevel\u001b[0m\u001b[1;33m:\u001b[0m\u001b[1;33m]\u001b[0m\u001b[1;33m,\u001b[0m \u001b[0mpackage\u001b[0m\u001b[1;33m,\u001b[0m \u001b[0mlevel\u001b[0m\u001b[1;33m)\u001b[0m\u001b[1;33m\u001b[0m\u001b[1;33m\u001b[0m\u001b[0m\n\u001b[0m\u001b[0;32m    128\u001b[0m \u001b[1;33m\u001b[0m\u001b[0m\n",
      "\u001b[1;32mc:\\Users\\37544\\AppData\\Local\\Programs\\Python\\Python39\\lib\\importlib\\_bootstrap.py\u001b[0m in \u001b[0;36m_gcd_import\u001b[1;34m(name, package, level)\u001b[0m\n",
      "\u001b[1;32mc:\\Users\\37544\\AppData\\Local\\Programs\\Python\\Python39\\lib\\importlib\\_bootstrap.py\u001b[0m in \u001b[0;36m_find_and_load\u001b[1;34m(name, import_)\u001b[0m\n",
      "\u001b[1;32mc:\\Users\\37544\\AppData\\Local\\Programs\\Python\\Python39\\lib\\importlib\\_bootstrap.py\u001b[0m in \u001b[0;36m_find_and_load_unlocked\u001b[1;34m(name, import_)\u001b[0m\n",
      "\u001b[1;31mModuleNotFoundError\u001b[0m: No module named 'jinja2'",
      "\nDuring handling of the above exception, another exception occurred:\n",
      "\u001b[1;31mImportError\u001b[0m                               Traceback (most recent call last)",
      "\u001b[1;32m~\\AppData\\Local\\Temp/ipykernel_2600/2332923113.py\u001b[0m in \u001b[0;36m<module>\u001b[1;34m\u001b[0m\n\u001b[0;32m      5\u001b[0m \u001b[0mdata_c\u001b[0m\u001b[1;33m.\u001b[0m\u001b[0mcolumns\u001b[0m \u001b[1;33m=\u001b[0m \u001b[1;33m[\u001b[0m\u001b[1;34m'debt'\u001b[0m\u001b[1;33m,\u001b[0m \u001b[1;34m'total'\u001b[0m\u001b[1;33m,\u001b[0m \u001b[1;34m'%'\u001b[0m\u001b[1;33m]\u001b[0m\u001b[1;33m\u001b[0m\u001b[1;33m\u001b[0m\u001b[0m\n\u001b[0;32m      6\u001b[0m \u001b[0mdata_c\u001b[0m \u001b[1;33m=\u001b[0m \u001b[0mdata_c\u001b[0m\u001b[1;33m.\u001b[0m\u001b[0msort_values\u001b[0m\u001b[1;33m(\u001b[0m\u001b[0mby\u001b[0m \u001b[1;33m=\u001b[0m \u001b[1;33m[\u001b[0m\u001b[1;34m'total'\u001b[0m\u001b[1;33m]\u001b[0m\u001b[1;33m,\u001b[0m \u001b[0mascending\u001b[0m \u001b[1;33m=\u001b[0m \u001b[1;32mFalse\u001b[0m\u001b[1;33m)\u001b[0m\u001b[1;33m\u001b[0m\u001b[1;33m\u001b[0m\u001b[0m\n\u001b[1;32m----> 7\u001b[1;33m \u001b[0mdata_c\u001b[0m\u001b[1;33m.\u001b[0m\u001b[0mstyle\u001b[0m\u001b[1;33m.\u001b[0m\u001b[0mformat\u001b[0m\u001b[1;33m(\u001b[0m\u001b[1;33m{\u001b[0m\u001b[1;34m'%'\u001b[0m\u001b[1;33m:\u001b[0m \u001b[1;34m'{:.2%}'\u001b[0m\u001b[1;33m}\u001b[0m\u001b[1;33m)\u001b[0m\u001b[1;33m\u001b[0m\u001b[1;33m\u001b[0m\u001b[0m\n\u001b[0m\u001b[0;32m      8\u001b[0m \u001b[1;33m\u001b[0m\u001b[0m\n",
      "\u001b[1;32mc:\\Users\\37544\\AppData\\Local\\Programs\\Python\\Python39\\lib\\site-packages\\pandas\\core\\frame.py\u001b[0m in \u001b[0;36mstyle\u001b[1;34m(self)\u001b[0m\n\u001b[0;32m   1262\u001b[0m             \u001b[0mdata\u001b[0m \u001b[1;32mwith\u001b[0m \u001b[0mHTML\u001b[0m \u001b[1;32mand\u001b[0m \u001b[0mCSS\u001b[0m\u001b[1;33m.\u001b[0m\u001b[1;33m\u001b[0m\u001b[1;33m\u001b[0m\u001b[0m\n\u001b[0;32m   1263\u001b[0m         \"\"\"\n\u001b[1;32m-> 1264\u001b[1;33m         \u001b[1;32mfrom\u001b[0m \u001b[0mpandas\u001b[0m\u001b[1;33m.\u001b[0m\u001b[0mio\u001b[0m\u001b[1;33m.\u001b[0m\u001b[0mformats\u001b[0m\u001b[1;33m.\u001b[0m\u001b[0mstyle\u001b[0m \u001b[1;32mimport\u001b[0m \u001b[0mStyler\u001b[0m\u001b[1;33m\u001b[0m\u001b[1;33m\u001b[0m\u001b[0m\n\u001b[0m\u001b[0;32m   1265\u001b[0m \u001b[1;33m\u001b[0m\u001b[0m\n\u001b[0;32m   1266\u001b[0m         \u001b[1;32mreturn\u001b[0m \u001b[0mStyler\u001b[0m\u001b[1;33m(\u001b[0m\u001b[0mself\u001b[0m\u001b[1;33m)\u001b[0m\u001b[1;33m\u001b[0m\u001b[1;33m\u001b[0m\u001b[0m\n",
      "\u001b[1;32mc:\\Users\\37544\\AppData\\Local\\Programs\\Python\\Python39\\lib\\site-packages\\pandas\\io\\formats\\style.py\u001b[0m in \u001b[0;36m<module>\u001b[1;34m\u001b[0m\n\u001b[0;32m     54\u001b[0m \u001b[1;32mfrom\u001b[0m \u001b[0mpandas\u001b[0m\u001b[1;33m.\u001b[0m\u001b[0mio\u001b[0m\u001b[1;33m.\u001b[0m\u001b[0mformats\u001b[0m\u001b[1;33m.\u001b[0m\u001b[0mformat\u001b[0m \u001b[1;32mimport\u001b[0m \u001b[0msave_to_buffer\u001b[0m\u001b[1;33m\u001b[0m\u001b[1;33m\u001b[0m\u001b[0m\n\u001b[0;32m     55\u001b[0m \u001b[1;33m\u001b[0m\u001b[0m\n\u001b[1;32m---> 56\u001b[1;33m \u001b[0mjinja2\u001b[0m \u001b[1;33m=\u001b[0m \u001b[0mimport_optional_dependency\u001b[0m\u001b[1;33m(\u001b[0m\u001b[1;34m\"jinja2\"\u001b[0m\u001b[1;33m,\u001b[0m \u001b[0mextra\u001b[0m\u001b[1;33m=\u001b[0m\u001b[1;34m\"DataFrame.style requires jinja2.\"\u001b[0m\u001b[1;33m)\u001b[0m\u001b[1;33m\u001b[0m\u001b[1;33m\u001b[0m\u001b[0m\n\u001b[0m\u001b[0;32m     57\u001b[0m \u001b[1;33m\u001b[0m\u001b[0m\n\u001b[0;32m     58\u001b[0m from pandas.io.formats.style_render import (\n",
      "\u001b[1;32mc:\\Users\\37544\\AppData\\Local\\Programs\\Python\\Python39\\lib\\site-packages\\pandas\\compat\\_optional.py\u001b[0m in \u001b[0;36mimport_optional_dependency\u001b[1;34m(name, extra, errors, min_version)\u001b[0m\n\u001b[0;32m    142\u001b[0m     \u001b[1;32mexcept\u001b[0m \u001b[0mImportError\u001b[0m\u001b[1;33m:\u001b[0m\u001b[1;33m\u001b[0m\u001b[1;33m\u001b[0m\u001b[0m\n\u001b[0;32m    143\u001b[0m         \u001b[1;32mif\u001b[0m \u001b[0merrors\u001b[0m \u001b[1;33m==\u001b[0m \u001b[1;34m\"raise\"\u001b[0m\u001b[1;33m:\u001b[0m\u001b[1;33m\u001b[0m\u001b[1;33m\u001b[0m\u001b[0m\n\u001b[1;32m--> 144\u001b[1;33m             \u001b[1;32mraise\u001b[0m \u001b[0mImportError\u001b[0m\u001b[1;33m(\u001b[0m\u001b[0mmsg\u001b[0m\u001b[1;33m)\u001b[0m\u001b[1;33m\u001b[0m\u001b[1;33m\u001b[0m\u001b[0m\n\u001b[0m\u001b[0;32m    145\u001b[0m         \u001b[1;32melse\u001b[0m\u001b[1;33m:\u001b[0m\u001b[1;33m\u001b[0m\u001b[1;33m\u001b[0m\u001b[0m\n\u001b[0;32m    146\u001b[0m             \u001b[1;32mreturn\u001b[0m \u001b[1;32mNone\u001b[0m\u001b[1;33m\u001b[0m\u001b[1;33m\u001b[0m\u001b[0m\n",
      "\u001b[1;31mImportError\u001b[0m: Missing optional dependency 'Jinja2'. DataFrame.style requires jinja2. Use pip or conda to install Jinja2."
     ]
    }
   ],
   "source": [
    "data_c = data.copy()\n",
    "\n",
    "data_c.loc[data_c['children'] >= 4, 'children'] = 'Другие'\n",
    "data_c = data_c.pivot_table(index = ['children'], values = 'debt', aggfunc = ['sum', 'count', 'mean']).fillna(0)\n",
    "data_c.columns = ['debt', 'total', '%']\n",
    "data_c = data_c.sort_values(by = ['total'], ascending = False)\n",
    "data_c.style.format({'%': '{:.2%}'})\n",
    "\n"
   ]
  },
  {
   "cell_type": "markdown",
   "id": "d590d226",
   "metadata": {
    "deletable": false,
    "id": "3a6b99ec"
   },
   "source": [
    "**Вывод:** Можем заметить, что чем больше детей, тем чуть выше вероятность просрочить кредит. "
   ]
  },
  {
   "cell_type": "markdown",
   "id": "4185e5dd",
   "metadata": {
    "deletable": false,
    "editable": false,
    "id": "97be82ca"
   },
   "source": [
    "#### 3.2 Есть ли зависимость между семейным положением и возвратом кредита в срок?"
   ]
  },
  {
   "cell_type": "code",
   "execution_count": null,
   "id": "feab2b02",
   "metadata": {
    "deletable": false,
    "id": "dc3f7ee8"
   },
   "outputs": [
    {
     "data": {
      "text/html": [
       "<style  type=\"text/css\" >\n",
       "</style><table id=\"T_e5d08_\" ><thead>    <tr>        <th class=\"blank level0\" ></th>        <th class=\"col_heading level0 col0\" >debt</th>        <th class=\"col_heading level0 col1\" >total</th>        <th class=\"col_heading level0 col2\" >%</th>    </tr>    <tr>        <th class=\"index_name level0\" >family_status_id</th>        <th class=\"blank\" ></th>        <th class=\"blank\" ></th>        <th class=\"blank\" ></th>    </tr></thead><tbody>\n",
       "                <tr>\n",
       "                        <th id=\"T_e5d08_level0_row0\" class=\"row_heading level0 row0\" >0</th>\n",
       "                        <td id=\"T_e5d08_row0_col0\" class=\"data row0 col0\" >927</td>\n",
       "                        <td id=\"T_e5d08_row0_col1\" class=\"data row0 col1\" >12261</td>\n",
       "                        <td id=\"T_e5d08_row0_col2\" class=\"data row0 col2\" >7.56%</td>\n",
       "            </tr>\n",
       "            <tr>\n",
       "                        <th id=\"T_e5d08_level0_row1\" class=\"row_heading level0 row1\" >1</th>\n",
       "                        <td id=\"T_e5d08_row1_col0\" class=\"data row1 col0\" >385</td>\n",
       "                        <td id=\"T_e5d08_row1_col1\" class=\"data row1 col1\" >4134</td>\n",
       "                        <td id=\"T_e5d08_row1_col2\" class=\"data row1 col2\" >9.31%</td>\n",
       "            </tr>\n",
       "            <tr>\n",
       "                        <th id=\"T_e5d08_level0_row2\" class=\"row_heading level0 row2\" >4</th>\n",
       "                        <td id=\"T_e5d08_row2_col0\" class=\"data row2 col0\" >273</td>\n",
       "                        <td id=\"T_e5d08_row2_col1\" class=\"data row2 col1\" >2796</td>\n",
       "                        <td id=\"T_e5d08_row2_col2\" class=\"data row2 col2\" >9.76%</td>\n",
       "            </tr>\n",
       "            <tr>\n",
       "                        <th id=\"T_e5d08_level0_row3\" class=\"row_heading level0 row3\" >3</th>\n",
       "                        <td id=\"T_e5d08_row3_col0\" class=\"data row3 col0\" >84</td>\n",
       "                        <td id=\"T_e5d08_row3_col1\" class=\"data row3 col1\" >1189</td>\n",
       "                        <td id=\"T_e5d08_row3_col2\" class=\"data row3 col2\" >7.06%</td>\n",
       "            </tr>\n",
       "            <tr>\n",
       "                        <th id=\"T_e5d08_level0_row4\" class=\"row_heading level0 row4\" >2</th>\n",
       "                        <td id=\"T_e5d08_row4_col0\" class=\"data row4 col0\" >63</td>\n",
       "                        <td id=\"T_e5d08_row4_col1\" class=\"data row4 col1\" >951</td>\n",
       "                        <td id=\"T_e5d08_row4_col2\" class=\"data row4 col2\" >6.62%</td>\n",
       "            </tr>\n",
       "    </tbody></table>"
      ],
      "text/plain": [
       "<pandas.io.formats.style.Styler at 0x7f062bf3ccd0>"
      ]
     },
     "execution_count": 24,
     "metadata": {},
     "output_type": "execute_result"
    }
   ],
   "source": [
    "data_c = data.copy()\n",
    "\n",
    "data_c.loc[data_c['family_status_id'] >= 5, 'family_status_id'] = 'Другие'\n",
    "data_c = data_c.pivot_table(index = ['family_status_id'], values = 'debt', aggfunc = ['sum', 'count', 'mean']).fillna(0)\n",
    "data_c.columns = ['debt', 'total', '%']\n",
    "data_c = data_c.sort_values(by = ['total'], ascending = False)\n",
    "data_c.style.format({'%': '{:.2%}'})"
   ]
  },
  {
   "cell_type": "markdown",
   "id": "78107e07",
   "metadata": {
    "deletable": false,
    "id": "1cef7837"
   },
   "source": [
    "**Вывод:** Реже всех проблемы с возвратом кредита возникают у вдодвцов/ вдов, чаще всего - у неженатых."
   ]
  },
  {
   "cell_type": "markdown",
   "id": "670b1ec7",
   "metadata": {
    "deletable": false,
    "editable": false,
    "id": "1e8b2fca"
   },
   "source": [
    "#### 3.3 Есть ли зависимость между уровнем дохода и возвратом кредита в срок?"
   ]
  },
  {
   "cell_type": "code",
   "execution_count": null,
   "id": "76b01634",
   "metadata": {
    "deletable": false,
    "id": "cd7e3720"
   },
   "outputs": [
    {
     "data": {
      "text/html": [
       "<style  type=\"text/css\" >\n",
       "</style><table id=\"T_6cd7b_\" ><thead>    <tr>        <th class=\"blank level0\" ></th>        <th class=\"col_heading level0 col0\" >debt</th>        <th class=\"col_heading level0 col1\" >total</th>        <th class=\"col_heading level0 col2\" >%</th>    </tr>    <tr>        <th class=\"index_name level0\" >total_income_category</th>        <th class=\"blank\" ></th>        <th class=\"blank\" ></th>        <th class=\"blank\" ></th>    </tr></thead><tbody>\n",
       "                <tr>\n",
       "                        <th id=\"T_6cd7b_level0_row0\" class=\"row_heading level0 row0\" >C</th>\n",
       "                        <td id=\"T_6cd7b_row0_col0\" class=\"data row0 col0\" >1353</td>\n",
       "                        <td id=\"T_6cd7b_row0_col1\" class=\"data row0 col1\" >15921</td>\n",
       "                        <td id=\"T_6cd7b_row0_col2\" class=\"data row0 col2\" >8.50%</td>\n",
       "            </tr>\n",
       "            <tr>\n",
       "                        <th id=\"T_6cd7b_level0_row1\" class=\"row_heading level0 row1\" >B</th>\n",
       "                        <td id=\"T_6cd7b_row1_col0\" class=\"data row1 col0\" >354</td>\n",
       "                        <td id=\"T_6cd7b_row1_col1\" class=\"data row1 col1\" >5014</td>\n",
       "                        <td id=\"T_6cd7b_row1_col2\" class=\"data row1 col2\" >7.06%</td>\n",
       "            </tr>\n",
       "            <tr>\n",
       "                        <th id=\"T_6cd7b_level0_row2\" class=\"row_heading level0 row2\" >D</th>\n",
       "                        <td id=\"T_6cd7b_row2_col0\" class=\"data row2 col0\" >21</td>\n",
       "                        <td id=\"T_6cd7b_row2_col1\" class=\"data row2 col1\" >349</td>\n",
       "                        <td id=\"T_6cd7b_row2_col2\" class=\"data row2 col2\" >6.02%</td>\n",
       "            </tr>\n",
       "            <tr>\n",
       "                        <th id=\"T_6cd7b_level0_row3\" class=\"row_heading level0 row3\" >A</th>\n",
       "                        <td id=\"T_6cd7b_row3_col0\" class=\"data row3 col0\" >2</td>\n",
       "                        <td id=\"T_6cd7b_row3_col1\" class=\"data row3 col1\" >25</td>\n",
       "                        <td id=\"T_6cd7b_row3_col2\" class=\"data row3 col2\" >8.00%</td>\n",
       "            </tr>\n",
       "            <tr>\n",
       "                        <th id=\"T_6cd7b_level0_row4\" class=\"row_heading level0 row4\" >E</th>\n",
       "                        <td id=\"T_6cd7b_row4_col0\" class=\"data row4 col0\" >2</td>\n",
       "                        <td id=\"T_6cd7b_row4_col1\" class=\"data row4 col1\" >22</td>\n",
       "                        <td id=\"T_6cd7b_row4_col2\" class=\"data row4 col2\" >9.09%</td>\n",
       "            </tr>\n",
       "    </tbody></table>"
      ],
      "text/plain": [
       "<pandas.io.formats.style.Styler at 0x7f062bf23d00>"
      ]
     },
     "execution_count": 25,
     "metadata": {},
     "output_type": "execute_result"
    }
   ],
   "source": [
    "data_c = data.copy()\n",
    "\n",
    "data_c.loc[data_c['total_income_category'] >= 'F', 'total_income_category'] = 'Другие'\n",
    "data_c = data_c.pivot_table(index = ['total_income_category'], values = 'debt', aggfunc = ['sum', 'count', 'mean']).fillna(0)\n",
    "data_c.columns = ['debt', 'total', '%']\n",
    "data_c = data_c.sort_values(by = ['total'], ascending = False)\n",
    "data_c.style.format({'%': '{:.2%}'})"
   ]
  },
  {
   "cell_type": "markdown",
   "id": "bf3e871f",
   "metadata": {
    "deletable": false,
    "id": "e8593def"
   },
   "source": [
    "**Вывод:** Расшифровка категорий:\n",
    "0–30000 — 'E';\n",
    "30001–50000 — 'D';\n",
    "50001–200000 — 'C';\n",
    "200001–1000000 — 'B';\n",
    "1000001 и выше — 'A'.\n",
    "Самые высокочисленные категории-это C и B. Категория C(средний доход и самая многочесленная категория) является одной из самых высокорискованных категорий по вероятности задолженности по кредиту. Категория B(предпоследняя по зп и вторая по многочисленности) является среднерискованной. Самая маловероятная задолженность у категории D(находится между самым низким и средним доходом)."
   ]
  },
  {
   "cell_type": "markdown",
   "id": "9fb542c1",
   "metadata": {
    "deletable": false,
    "editable": false,
    "id": "99ecbd1f"
   },
   "source": [
    "#### 3.4 Как разные цели кредита влияют на его возврат в срок?"
   ]
  },
  {
   "cell_type": "code",
   "execution_count": null,
   "id": "9a5fca7e",
   "metadata": {
    "deletable": false,
    "id": "2b687290"
   },
   "outputs": [
    {
     "data": {
      "text/html": [
       "<style  type=\"text/css\" >\n",
       "</style><table id=\"T_c584a_\" ><thead>    <tr>        <th class=\"blank level0\" ></th>        <th class=\"col_heading level0 col0\" >debt</th>        <th class=\"col_heading level0 col1\" >total</th>        <th class=\"col_heading level0 col2\" >%</th>    </tr>    <tr>        <th class=\"index_name level0\" >purpose_category</th>        <th class=\"blank\" ></th>        <th class=\"blank\" ></th>        <th class=\"blank\" ></th>    </tr></thead><tbody>\n",
       "                <tr>\n",
       "                        <th id=\"T_c584a_level0_row0\" class=\"row_heading level0 row0\" >операции с недвижимостью</th>\n",
       "                        <td id=\"T_c584a_row0_col0\" class=\"data row0 col0\" >780</td>\n",
       "                        <td id=\"T_c584a_row0_col1\" class=\"data row0 col1\" >10751</td>\n",
       "                        <td id=\"T_c584a_row0_col2\" class=\"data row0 col2\" >7.26%</td>\n",
       "            </tr>\n",
       "            <tr>\n",
       "                        <th id=\"T_c584a_level0_row1\" class=\"row_heading level0 row1\" >операции с автомобилем</th>\n",
       "                        <td id=\"T_c584a_row1_col0\" class=\"data row1 col0\" >400</td>\n",
       "                        <td id=\"T_c584a_row1_col1\" class=\"data row1 col1\" >4279</td>\n",
       "                        <td id=\"T_c584a_row1_col2\" class=\"data row1 col2\" >9.35%</td>\n",
       "            </tr>\n",
       "            <tr>\n",
       "                        <th id=\"T_c584a_level0_row2\" class=\"row_heading level0 row2\" >получение образования</th>\n",
       "                        <td id=\"T_c584a_row2_col0\" class=\"data row2 col0\" >369</td>\n",
       "                        <td id=\"T_c584a_row2_col1\" class=\"data row2 col1\" >3988</td>\n",
       "                        <td id=\"T_c584a_row2_col2\" class=\"data row2 col2\" >9.25%</td>\n",
       "            </tr>\n",
       "            <tr>\n",
       "                        <th id=\"T_c584a_level0_row3\" class=\"row_heading level0 row3\" >проведение свадьбы</th>\n",
       "                        <td id=\"T_c584a_row3_col0\" class=\"data row3 col0\" >183</td>\n",
       "                        <td id=\"T_c584a_row3_col1\" class=\"data row3 col1\" >2313</td>\n",
       "                        <td id=\"T_c584a_row3_col2\" class=\"data row3 col2\" >7.91%</td>\n",
       "            </tr>\n",
       "    </tbody></table>"
      ],
      "text/plain": [
       "<pandas.io.formats.style.Styler at 0x7f062dc63eb0>"
      ]
     },
     "execution_count": 26,
     "metadata": {},
     "output_type": "execute_result"
    }
   ],
   "source": [
    "data_c = data.copy()\n",
    "\n",
    "data_c.loc[data_c['purpose_category'] >= 'я', 'purpose_category'] = 'Другие'\n",
    "data_c = data_c.pivot_table(index = ['purpose_category'], values = 'debt', aggfunc = ['sum', 'count', 'mean']).fillna(0)\n",
    "data_c.columns = ['debt', 'total', '%']\n",
    "data_c = data_c.sort_values(by = ['total'], ascending = False)\n",
    "data_c.style.format({'%': '{:.2%}'})"
   ]
  },
  {
   "cell_type": "markdown",
   "id": "7af954f0",
   "metadata": {
    "deletable": false,
    "id": "b4bb2ce6"
   },
   "source": [
    "**Вывод:** Чаще всего просрочка по кредиту бывает с операциями, связанными с оптомобилями и образованием, реже всего - с операциями по недвижимости."
   ]
  },
  {
   "attachments": {},
   "cell_type": "markdown",
   "id": "95a1fa3e",
   "metadata": {
    "deletable": false,
    "editable": false,
    "id": "09c3ac4c"
   },
   "source": [
    "#### 3.5 Приведем возможные причины появления пропусков в исходных данных."
   ]
  },
  {
   "cell_type": "markdown",
   "id": "8c335d0c",
   "metadata": {
    "deletable": false,
    "id": "9da2ceda"
   },
   "source": [
    "1. Ошибка ввода данных\n",
    "2. Сокрытие информации\n",
    "3. Фрод"
   ]
  },
  {
   "attachments": {},
   "cell_type": "markdown",
   "id": "d1efd6dd",
   "metadata": {
    "deletable": false,
    "editable": false,
    "id": "7b0487d6"
   },
   "source": [
    "#### 3.6 Объясним, почему заполнить пропуски медианным значением — лучшее решение для количественных переменных."
   ]
  },
  {
   "attachments": {},
   "cell_type": "markdown",
   "id": "3acd265c",
   "metadata": {
    "deletable": false,
    "id": "7ecf2b8e"
   },
   "source": [
    " Медиаонное значения будет предпочтительнее, когда речь идёт о искаженных значениях. Среднее подойдёт лучше для нормального распределения. "
   ]
  },
  {
   "cell_type": "markdown",
   "id": "b4949dba",
   "metadata": {
    "deletable": false,
    "editable": false,
    "id": "6db5255a"
   },
   "source": [
    "### Шаг 4: общий вывод."
   ]
  },
  {
   "cell_type": "markdown",
   "id": "d2d91566",
   "metadata": {
    "deletable": false,
    "id": "bad65432"
   },
   "source": [
    "Нету яркой зависимости между наличием семьи, размером з/п, видом операций при оформление кредита и задолженностью по кредиту. Она просматривается лишь при сравнения отдельных категорий и лишь с небольшим разбегом, но опираясь на данные, что у нас есть, можно заметить следующее:\n",
    "1. Наибольшая вероятность не вернуть кредит в срок у лиц:\n",
    "   1) Имеющих 2 детей \n",
    "   2) Неженатых\n",
    "   3) С самым низким доходом(0–30000 д.е)\n",
    "   4) Берущих кредит на авто и образование\n",
    "2. Самыми надёжными являются лица:\n",
    "   1) Не имеющие детей\n",
    "   2) Вдовы/вдовцы\n",
    "   3) С зп между наименьшей и средней(30001–50000 д.е)\n",
    "   4) Берущих кредит на недвижимость и на свадьбу\n",
    "\n",
    "Меньше всего данных о:\n",
    "    1) Лицах, имеющих более 3(включительно) детей\n",
    "    2) Разведённых и вдовец/вдов \n",
    "    3) Лицах имеющих самый высокий и самый низкий дохох\n"
   ]
  }
 ],
 "metadata": {
  "ExecuteTimeLog": [
   {
    "duration": 498,
    "start_time": "2022-10-24T11:07:15.276Z"
   },
   {
    "duration": 24,
    "start_time": "2022-10-24T11:07:16.466Z"
   },
   {
    "duration": 15,
    "start_time": "2022-10-24T11:07:18.520Z"
   },
   {
    "duration": 16,
    "start_time": "2022-10-24T11:07:20.446Z"
   },
   {
    "duration": 32,
    "start_time": "2022-10-24T11:07:22.058Z"
   },
   {
    "duration": 3,
    "start_time": "2022-10-24T11:07:24.617Z"
   },
   {
    "duration": 9,
    "start_time": "2022-10-24T11:07:25.589Z"
   },
   {
    "duration": 5,
    "start_time": "2022-10-24T11:07:27.325Z"
   },
   {
    "duration": 8,
    "start_time": "2022-10-24T11:07:29.052Z"
   },
   {
    "duration": 5,
    "start_time": "2022-10-24T11:07:30.006Z"
   },
   {
    "duration": 34,
    "start_time": "2022-10-24T11:07:31.573Z"
   },
   {
    "duration": 10,
    "start_time": "2022-10-24T11:07:32.293Z"
   },
   {
    "duration": 4,
    "start_time": "2022-10-24T11:07:33.305Z"
   },
   {
    "duration": 12,
    "start_time": "2022-10-24T11:07:34.494Z"
   },
   {
    "duration": 20,
    "start_time": "2022-10-24T11:07:35.476Z"
   },
   {
    "duration": 17,
    "start_time": "2022-10-24T11:07:35.800Z"
   },
   {
    "duration": 3,
    "start_time": "2022-10-24T11:07:37.293Z"
   },
   {
    "duration": 11,
    "start_time": "2022-10-24T11:07:37.842Z"
   },
   {
    "duration": 7,
    "start_time": "2022-10-24T11:07:38.691Z"
   },
   {
    "duration": 3,
    "start_time": "2022-10-24T11:07:39.669Z"
   },
   {
    "duration": 8,
    "start_time": "2022-10-24T11:07:40.181Z"
   },
   {
    "duration": 2,
    "start_time": "2022-10-24T11:07:41.509Z"
   },
   {
    "duration": 65,
    "start_time": "2022-10-24T11:13:18.175Z"
   },
   {
    "duration": 15,
    "start_time": "2022-10-24T11:13:18.593Z"
   },
   {
    "duration": 17,
    "start_time": "2022-10-24T11:13:18.999Z"
   },
   {
    "duration": 10,
    "start_time": "2022-10-24T11:13:19.896Z"
   },
   {
    "duration": 32,
    "start_time": "2022-10-24T11:13:20.305Z"
   },
   {
    "duration": 4,
    "start_time": "2022-10-24T11:13:21.413Z"
   },
   {
    "duration": 8,
    "start_time": "2022-10-24T11:13:21.799Z"
   },
   {
    "duration": 5,
    "start_time": "2022-10-24T11:13:22.385Z"
   },
   {
    "duration": 5,
    "start_time": "2022-10-24T11:13:22.798Z"
   },
   {
    "duration": 4,
    "start_time": "2022-10-24T11:13:23.203Z"
   },
   {
    "duration": 36,
    "start_time": "2022-10-24T11:13:24.539Z"
   },
   {
    "duration": 11,
    "start_time": "2022-10-24T11:13:24.590Z"
   },
   {
    "duration": 5,
    "start_time": "2022-10-24T11:13:24.920Z"
   },
   {
    "duration": 11,
    "start_time": "2022-10-24T11:13:25.499Z"
   },
   {
    "duration": 18,
    "start_time": "2022-10-24T11:13:25.911Z"
   },
   {
    "duration": 23,
    "start_time": "2022-10-24T11:13:26.206Z"
   },
   {
    "duration": 3,
    "start_time": "2022-10-24T11:13:26.776Z"
   },
   {
    "duration": 10,
    "start_time": "2022-10-24T11:13:27.059Z"
   },
   {
    "duration": 6,
    "start_time": "2022-10-24T11:13:27.518Z"
   },
   {
    "duration": 4,
    "start_time": "2022-10-24T11:13:28.082Z"
   },
   {
    "duration": 9,
    "start_time": "2022-10-24T11:13:28.413Z"
   },
   {
    "duration": 3,
    "start_time": "2022-10-24T11:13:30.011Z"
   },
   {
    "duration": 449,
    "start_time": "2022-10-24T11:28:28.400Z"
   },
   {
    "duration": 37,
    "start_time": "2022-10-24T11:28:45.899Z"
   },
   {
    "duration": 42,
    "start_time": "2022-10-24T11:28:56.714Z"
   },
   {
    "duration": 437,
    "start_time": "2022-10-24T20:43:07.462Z"
   },
   {
    "duration": 25,
    "start_time": "2022-10-24T20:43:08.053Z"
   },
   {
    "duration": 13,
    "start_time": "2022-10-24T20:43:08.468Z"
   },
   {
    "duration": 8,
    "start_time": "2022-10-24T20:43:09.319Z"
   },
   {
    "duration": 30,
    "start_time": "2022-10-24T20:43:09.715Z"
   },
   {
    "duration": 3,
    "start_time": "2022-10-24T20:43:10.320Z"
   },
   {
    "duration": 7,
    "start_time": "2022-10-24T20:43:10.710Z"
   },
   {
    "duration": 4,
    "start_time": "2022-10-24T20:43:11.289Z"
   },
   {
    "duration": 7,
    "start_time": "2022-10-24T20:43:11.692Z"
   },
   {
    "duration": 5,
    "start_time": "2022-10-24T20:43:12.084Z"
   },
   {
    "duration": 30,
    "start_time": "2022-10-24T20:43:12.742Z"
   },
   {
    "duration": 9,
    "start_time": "2022-10-24T20:43:13.156Z"
   },
   {
    "duration": 3,
    "start_time": "2022-10-24T20:43:13.788Z"
   },
   {
    "duration": 9,
    "start_time": "2022-10-24T20:43:14.389Z"
   },
   {
    "duration": 18,
    "start_time": "2022-10-24T20:43:14.806Z"
   },
   {
    "duration": 16,
    "start_time": "2022-10-24T20:43:14.997Z"
   },
   {
    "duration": 3,
    "start_time": "2022-10-24T20:43:15.626Z"
   },
   {
    "duration": 9,
    "start_time": "2022-10-24T20:43:15.828Z"
   },
   {
    "duration": 6,
    "start_time": "2022-10-24T20:43:16.217Z"
   },
   {
    "duration": 4,
    "start_time": "2022-10-24T20:43:16.645Z"
   },
   {
    "duration": 8,
    "start_time": "2022-10-24T20:43:16.837Z"
   },
   {
    "duration": 419,
    "start_time": "2022-10-24T20:43:17.446Z"
   },
   {
    "duration": 3,
    "start_time": "2022-10-24T20:43:18.051Z"
   },
   {
    "duration": 34,
    "start_time": "2022-10-24T20:43:39.974Z"
   },
   {
    "duration": 34,
    "start_time": "2022-10-24T20:46:26.600Z"
   },
   {
    "duration": 34,
    "start_time": "2022-10-24T20:47:00.427Z"
   },
   {
    "duration": 32,
    "start_time": "2022-10-24T20:47:04.814Z"
   },
   {
    "duration": 33,
    "start_time": "2022-10-24T20:47:11.229Z"
   },
   {
    "duration": 32,
    "start_time": "2022-10-24T20:47:42.840Z"
   },
   {
    "duration": 43,
    "start_time": "2022-10-24T20:48:07.226Z"
   },
   {
    "duration": 4,
    "start_time": "2022-10-24T20:48:40.145Z"
   },
   {
    "duration": 34,
    "start_time": "2022-10-24T20:48:50.365Z"
   },
   {
    "duration": 40,
    "start_time": "2022-10-24T20:48:55.990Z"
   },
   {
    "duration": 8,
    "start_time": "2022-10-24T20:53:38.398Z"
   },
   {
    "duration": 20,
    "start_time": "2022-10-24T20:54:25.401Z"
   },
   {
    "duration": 618,
    "start_time": "2022-10-25T06:45:14.872Z"
   },
   {
    "duration": 21,
    "start_time": "2022-10-25T06:45:15.493Z"
   },
   {
    "duration": 14,
    "start_time": "2022-10-25T06:45:15.884Z"
   },
   {
    "duration": 8,
    "start_time": "2022-10-25T06:45:16.651Z"
   },
   {
    "duration": 32,
    "start_time": "2022-10-25T06:45:17.032Z"
   },
   {
    "duration": 4,
    "start_time": "2022-10-25T06:45:17.616Z"
   },
   {
    "duration": 8,
    "start_time": "2022-10-25T06:45:18.029Z"
   },
   {
    "duration": 4,
    "start_time": "2022-10-25T06:45:18.684Z"
   },
   {
    "duration": 6,
    "start_time": "2022-10-25T06:45:19.093Z"
   },
   {
    "duration": 4,
    "start_time": "2022-10-25T06:45:19.523Z"
   },
   {
    "duration": 31,
    "start_time": "2022-10-25T06:45:20.819Z"
   },
   {
    "duration": 8,
    "start_time": "2022-10-25T06:45:21.493Z"
   },
   {
    "duration": 4,
    "start_time": "2022-10-25T06:45:22.107Z"
   },
   {
    "duration": 11,
    "start_time": "2022-10-25T06:45:22.638Z"
   },
   {
    "duration": 19,
    "start_time": "2022-10-25T06:45:23.044Z"
   },
   {
    "duration": 17,
    "start_time": "2022-10-25T06:45:23.306Z"
   },
   {
    "duration": 3,
    "start_time": "2022-10-25T06:45:23.836Z"
   },
   {
    "duration": 10,
    "start_time": "2022-10-25T06:45:24.125Z"
   },
   {
    "duration": 6,
    "start_time": "2022-10-25T06:45:24.581Z"
   },
   {
    "duration": 3,
    "start_time": "2022-10-25T06:45:25.212Z"
   },
   {
    "duration": 8,
    "start_time": "2022-10-25T06:45:25.390Z"
   },
   {
    "duration": 414,
    "start_time": "2022-10-25T06:45:26.485Z"
   },
   {
    "duration": 37,
    "start_time": "2022-10-25T06:45:27.989Z"
   },
   {
    "duration": 264,
    "start_time": "2022-10-25T06:51:40.740Z"
   },
   {
    "duration": 3,
    "start_time": "2022-10-25T06:52:30.204Z"
   },
   {
    "duration": 9,
    "start_time": "2022-10-25T06:52:32.948Z"
   },
   {
    "duration": 45,
    "start_time": "2022-10-25T06:52:38.837Z"
   },
   {
    "duration": 984,
    "start_time": "2022-10-25T06:55:01.941Z"
   },
   {
    "duration": 3,
    "start_time": "2022-10-25T06:55:20.826Z"
   },
   {
    "duration": 9,
    "start_time": "2022-10-25T06:55:21.350Z"
   },
   {
    "duration": 7,
    "start_time": "2022-10-25T06:55:23.805Z"
   },
   {
    "duration": 3,
    "start_time": "2022-10-25T06:55:24.666Z"
   },
   {
    "duration": 8,
    "start_time": "2022-10-25T06:55:25.073Z"
   },
   {
    "duration": 32,
    "start_time": "2022-10-25T06:55:26.002Z"
   },
   {
    "duration": 34,
    "start_time": "2022-10-25T06:55:26.696Z"
   },
   {
    "duration": 534,
    "start_time": "2022-10-25T06:55:27.988Z"
   },
   {
    "duration": 195,
    "start_time": "2022-10-25T06:56:55.938Z"
   },
   {
    "duration": 174,
    "start_time": "2022-10-25T06:57:19.692Z"
   },
   {
    "duration": 222,
    "start_time": "2022-10-25T06:59:04.633Z"
   },
   {
    "duration": 5,
    "start_time": "2022-10-25T07:25:03.227Z"
   },
   {
    "duration": 10,
    "start_time": "2022-10-25T07:25:04.600Z"
   },
   {
    "duration": 7,
    "start_time": "2022-10-25T07:25:08.328Z"
   },
   {
    "duration": 3,
    "start_time": "2022-10-25T07:25:08.735Z"
   },
   {
    "duration": 14,
    "start_time": "2022-10-25T07:25:08.864Z"
   },
   {
    "duration": 35,
    "start_time": "2022-10-25T07:25:09.671Z"
   },
   {
    "duration": 35,
    "start_time": "2022-10-25T07:25:10.988Z"
   },
   {
    "duration": 9,
    "start_time": "2022-10-25T07:26:14.421Z"
   },
   {
    "duration": 8,
    "start_time": "2022-10-25T07:26:52.495Z"
   },
   {
    "duration": 36,
    "start_time": "2022-10-25T07:29:13.043Z"
   },
   {
    "duration": 223,
    "start_time": "2022-10-25T07:29:49.191Z"
   },
   {
    "duration": 36,
    "start_time": "2022-10-25T07:33:46.717Z"
   },
   {
    "duration": 16,
    "start_time": "2022-10-25T07:57:03.948Z"
   },
   {
    "duration": 20,
    "start_time": "2022-10-25T07:59:52.708Z"
   },
   {
    "duration": 13,
    "start_time": "2022-10-25T08:00:06.792Z"
   },
   {
    "duration": 14,
    "start_time": "2022-10-25T08:01:41.536Z"
   },
   {
    "duration": 11,
    "start_time": "2022-10-25T08:02:03.608Z"
   },
   {
    "duration": 13,
    "start_time": "2022-10-25T08:03:49.182Z"
   },
   {
    "duration": 11,
    "start_time": "2022-10-25T08:05:24.533Z"
   },
   {
    "duration": 1298,
    "start_time": "2022-10-25T08:05:41.342Z"
   },
   {
    "duration": 11,
    "start_time": "2022-10-25T08:07:24.291Z"
   },
   {
    "duration": 36,
    "start_time": "2022-10-25T08:07:37.237Z"
   },
   {
    "duration": 4,
    "start_time": "2022-10-25T08:07:58.039Z"
   },
   {
    "duration": 9,
    "start_time": "2022-10-25T08:07:59.367Z"
   },
   {
    "duration": 37,
    "start_time": "2022-10-25T08:08:13.918Z"
   },
   {
    "duration": 33,
    "start_time": "2022-10-25T08:08:25.386Z"
   },
   {
    "duration": 30,
    "start_time": "2022-10-25T08:08:31.932Z"
   },
   {
    "duration": 3,
    "start_time": "2022-10-25T08:12:33.938Z"
   },
   {
    "duration": 33,
    "start_time": "2022-10-25T08:17:31.915Z"
   },
   {
    "duration": 32,
    "start_time": "2022-10-25T08:17:50.817Z"
   },
   {
    "duration": 36,
    "start_time": "2022-10-25T08:17:58.375Z"
   },
   {
    "duration": 473,
    "start_time": "2022-10-25T12:46:51.699Z"
   },
   {
    "duration": 25,
    "start_time": "2022-10-25T12:46:52.173Z"
   },
   {
    "duration": 18,
    "start_time": "2022-10-25T12:46:52.199Z"
   },
   {
    "duration": 9,
    "start_time": "2022-10-25T12:46:52.220Z"
   },
   {
    "duration": 48,
    "start_time": "2022-10-25T12:46:52.231Z"
   },
   {
    "duration": 3,
    "start_time": "2022-10-25T12:46:52.280Z"
   },
   {
    "duration": 23,
    "start_time": "2022-10-25T12:46:52.285Z"
   },
   {
    "duration": 10,
    "start_time": "2022-10-25T12:46:52.310Z"
   },
   {
    "duration": 15,
    "start_time": "2022-10-25T12:46:52.321Z"
   },
   {
    "duration": 8,
    "start_time": "2022-10-25T12:46:52.339Z"
   },
   {
    "duration": 43,
    "start_time": "2022-10-25T12:46:52.349Z"
   },
   {
    "duration": 10,
    "start_time": "2022-10-25T12:46:52.394Z"
   },
   {
    "duration": 16,
    "start_time": "2022-10-25T12:46:52.406Z"
   },
   {
    "duration": 37,
    "start_time": "2022-10-25T12:46:52.423Z"
   },
   {
    "duration": 39,
    "start_time": "2022-10-25T12:46:52.462Z"
   },
   {
    "duration": 21,
    "start_time": "2022-10-25T12:46:52.503Z"
   },
   {
    "duration": 4,
    "start_time": "2022-10-25T12:46:52.526Z"
   },
   {
    "duration": 14,
    "start_time": "2022-10-25T12:46:52.532Z"
   },
   {
    "duration": 10,
    "start_time": "2022-10-25T12:46:52.547Z"
   },
   {
    "duration": 4,
    "start_time": "2022-10-25T12:46:52.559Z"
   },
   {
    "duration": 14,
    "start_time": "2022-10-25T12:46:52.564Z"
   },
   {
    "duration": 13,
    "start_time": "2022-10-25T12:46:52.579Z"
   },
   {
    "duration": 294,
    "start_time": "2022-10-25T12:46:52.593Z"
   },
   {
    "duration": 46,
    "start_time": "2022-10-25T12:46:52.888Z"
   },
   {
    "duration": 35,
    "start_time": "2022-10-25T12:46:52.936Z"
   },
   {
    "duration": 56,
    "start_time": "2022-10-25T12:46:52.972Z"
   },
   {
    "duration": 50,
    "start_time": "2022-11-08T23:25:18.711Z"
   },
   {
    "duration": 648,
    "start_time": "2022-11-08T23:25:39.450Z"
   },
   {
    "duration": 24,
    "start_time": "2022-11-08T23:25:40.121Z"
   },
   {
    "duration": 14,
    "start_time": "2022-11-08T23:25:40.515Z"
   },
   {
    "duration": 9,
    "start_time": "2022-11-08T23:25:41.267Z"
   },
   {
    "duration": 35,
    "start_time": "2022-11-08T23:25:41.622Z"
   },
   {
    "duration": 3,
    "start_time": "2022-11-08T23:25:42.236Z"
   },
   {
    "duration": 9,
    "start_time": "2022-11-08T23:25:42.570Z"
   },
   {
    "duration": 5,
    "start_time": "2022-11-08T23:25:43.151Z"
   },
   {
    "duration": 7,
    "start_time": "2022-11-08T23:25:43.550Z"
   },
   {
    "duration": 5,
    "start_time": "2022-11-08T23:25:43.933Z"
   },
   {
    "duration": 35,
    "start_time": "2022-11-08T23:25:44.509Z"
   },
   {
    "duration": 10,
    "start_time": "2022-11-08T23:25:44.871Z"
   },
   {
    "duration": 4,
    "start_time": "2022-11-08T23:25:45.401Z"
   },
   {
    "duration": 12,
    "start_time": "2022-11-08T23:25:46.009Z"
   },
   {
    "duration": 25,
    "start_time": "2022-11-08T23:25:46.418Z"
   },
   {
    "duration": 18,
    "start_time": "2022-11-08T23:25:46.624Z"
   },
   {
    "duration": 4,
    "start_time": "2022-11-08T23:25:47.221Z"
   },
   {
    "duration": 11,
    "start_time": "2022-11-08T23:25:47.452Z"
   },
   {
    "duration": 6,
    "start_time": "2022-11-08T23:25:48.226Z"
   },
   {
    "duration": 3,
    "start_time": "2022-11-08T23:25:48.609Z"
   },
   {
    "duration": 9,
    "start_time": "2022-11-08T23:25:48.818Z"
   },
   {
    "duration": 15,
    "start_time": "2022-11-08T23:25:49.074Z"
   },
   {
    "duration": 459,
    "start_time": "2022-11-08T23:25:49.698Z"
   },
   {
    "duration": 18,
    "start_time": "2022-11-08T23:35:02.341Z"
   },
   {
    "duration": 19,
    "start_time": "2022-11-08T23:35:29.934Z"
   },
   {
    "duration": 14,
    "start_time": "2022-11-08T23:35:41.763Z"
   },
   {
    "duration": 18,
    "start_time": "2022-11-08T23:36:17.455Z"
   },
   {
    "duration": 449,
    "start_time": "2022-11-09T12:11:17.025Z"
   },
   {
    "duration": 23,
    "start_time": "2022-11-09T12:11:17.476Z"
   },
   {
    "duration": 16,
    "start_time": "2022-11-09T12:11:17.500Z"
   },
   {
    "duration": 9,
    "start_time": "2022-11-09T12:11:17.518Z"
   },
   {
    "duration": 57,
    "start_time": "2022-11-09T12:11:17.529Z"
   },
   {
    "duration": 3,
    "start_time": "2022-11-09T12:11:17.588Z"
   },
   {
    "duration": 14,
    "start_time": "2022-11-09T12:11:17.593Z"
   },
   {
    "duration": 5,
    "start_time": "2022-11-09T12:11:17.609Z"
   },
   {
    "duration": 18,
    "start_time": "2022-11-09T12:11:17.615Z"
   },
   {
    "duration": 47,
    "start_time": "2022-11-09T12:11:17.637Z"
   },
   {
    "duration": 54,
    "start_time": "2022-11-09T12:11:17.685Z"
   },
   {
    "duration": 10,
    "start_time": "2022-11-09T12:11:17.741Z"
   },
   {
    "duration": 12,
    "start_time": "2022-11-09T12:11:17.753Z"
   },
   {
    "duration": 17,
    "start_time": "2022-11-09T12:11:17.767Z"
   },
   {
    "duration": 25,
    "start_time": "2022-11-09T12:11:17.786Z"
   },
   {
    "duration": 20,
    "start_time": "2022-11-09T12:11:17.813Z"
   },
   {
    "duration": 4,
    "start_time": "2022-11-09T12:11:17.836Z"
   },
   {
    "duration": 34,
    "start_time": "2022-11-09T12:11:17.843Z"
   },
   {
    "duration": 12,
    "start_time": "2022-11-09T12:11:17.879Z"
   },
   {
    "duration": 4,
    "start_time": "2022-11-09T12:11:17.892Z"
   },
   {
    "duration": 11,
    "start_time": "2022-11-09T12:11:17.897Z"
   },
   {
    "duration": 23,
    "start_time": "2022-11-09T12:11:17.910Z"
   },
   {
    "duration": 332,
    "start_time": "2022-11-09T12:11:17.935Z"
   },
   {
    "duration": 37,
    "start_time": "2022-11-09T12:11:18.269Z"
   },
   {
    "duration": 37,
    "start_time": "2022-11-09T12:11:18.308Z"
   },
   {
    "duration": 60,
    "start_time": "2022-11-09T12:11:18.347Z"
   }
  ],
  "colab": {
   "name": "dpp_template_part2.ipynb",
   "provenance": []
  },
  "kernelspec": {
   "display_name": "Python 3",
   "language": "python",
   "name": "python3"
  },
  "language_info": {
   "codemirror_mode": {
    "name": "ipython",
    "version": 3
   },
   "file_extension": ".py",
   "mimetype": "text/x-python",
   "name": "python",
   "nbconvert_exporter": "python",
   "pygments_lexer": "ipython3",
   "version": "3.9.0"
  },
  "toc": {
   "base_numbering": 1,
   "nav_menu": {},
   "number_sections": true,
   "sideBar": true,
   "skip_h1_title": true,
   "title_cell": "Table of Contents",
   "title_sidebar": "Contents",
   "toc_cell": false,
   "toc_position": {},
   "toc_section_display": true,
   "toc_window_display": false
  },
  "vscode": {
   "interpreter": {
    "hash": "3b00302c3798e0e5d433f96409c192bd2709300eeb7b7ababb89b20bcd3190bd"
   }
  }
 },
 "nbformat": 4,
 "nbformat_minor": 5
}
